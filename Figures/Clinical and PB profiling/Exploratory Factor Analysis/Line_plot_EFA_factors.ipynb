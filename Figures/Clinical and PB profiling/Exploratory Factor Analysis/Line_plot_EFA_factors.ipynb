{
 "cells": [
  {
   "cell_type": "code",
   "execution_count": 3,
   "id": "1e6cedd3",
   "metadata": {},
   "outputs": [],
   "source": [
    "import seaborn as sns\n",
    "import pandas as pd"
   ]
  },
  {
   "cell_type": "code",
   "execution_count": 6,
   "id": "c39c2524",
   "metadata": {},
   "outputs": [],
   "source": [
    "datadir = \"./\""
   ]
  },
  {
   "cell_type": "code",
   "execution_count": 7,
   "id": "d636e5c9",
   "metadata": {},
   "outputs": [
    {
     "data": {
      "text/html": [
       "<div>\n",
       "<style scoped>\n",
       "    .dataframe tbody tr th:only-of-type {\n",
       "        vertical-align: middle;\n",
       "    }\n",
       "\n",
       "    .dataframe tbody tr th {\n",
       "        vertical-align: top;\n",
       "    }\n",
       "\n",
       "    .dataframe thead th {\n",
       "        text-align: right;\n",
       "    }\n",
       "</style>\n",
       "<table border=\"1\" class=\"dataframe\">\n",
       "  <thead>\n",
       "    <tr style=\"text-align: right;\">\n",
       "      <th></th>\n",
       "      <th>Factor_1</th>\n",
       "      <th>Factor_2</th>\n",
       "      <th>Factor_3</th>\n",
       "      <th>Factor_4</th>\n",
       "      <th>Factor_5</th>\n",
       "      <th>Category</th>\n",
       "      <th>Day_of_Sampling</th>\n",
       "    </tr>\n",
       "    <tr>\n",
       "      <th>RecordID</th>\n",
       "      <th></th>\n",
       "      <th></th>\n",
       "      <th></th>\n",
       "      <th></th>\n",
       "      <th></th>\n",
       "      <th></th>\n",
       "      <th></th>\n",
       "    </tr>\n",
       "  </thead>\n",
       "  <tbody>\n",
       "    <tr>\n",
       "      <th>180 D1</th>\n",
       "      <td>-0.491833</td>\n",
       "      <td>-0.201715</td>\n",
       "      <td>0.611882</td>\n",
       "      <td>-1.553272</td>\n",
       "      <td>1.109304</td>\n",
       "      <td>Early Death</td>\n",
       "      <td>1</td>\n",
       "    </tr>\n",
       "    <tr>\n",
       "      <th>028 D1</th>\n",
       "      <td>1.773959</td>\n",
       "      <td>-0.264231</td>\n",
       "      <td>0.078592</td>\n",
       "      <td>-1.628405</td>\n",
       "      <td>-0.349123</td>\n",
       "      <td>Early Death</td>\n",
       "      <td>1</td>\n",
       "    </tr>\n",
       "    <tr>\n",
       "      <th>175 D1</th>\n",
       "      <td>1.636698</td>\n",
       "      <td>-0.534013</td>\n",
       "      <td>0.507829</td>\n",
       "      <td>-2.070616</td>\n",
       "      <td>-0.177748</td>\n",
       "      <td>Early Death</td>\n",
       "      <td>1</td>\n",
       "    </tr>\n",
       "    <tr>\n",
       "      <th>196 D1</th>\n",
       "      <td>2.214427</td>\n",
       "      <td>0.265893</td>\n",
       "      <td>0.273196</td>\n",
       "      <td>-0.792716</td>\n",
       "      <td>0.369367</td>\n",
       "      <td>Early Death</td>\n",
       "      <td>1</td>\n",
       "    </tr>\n",
       "    <tr>\n",
       "      <th>028 D3</th>\n",
       "      <td>3.249920</td>\n",
       "      <td>0.386715</td>\n",
       "      <td>-0.649305</td>\n",
       "      <td>0.533154</td>\n",
       "      <td>1.223103</td>\n",
       "      <td>Early Death</td>\n",
       "      <td>3</td>\n",
       "    </tr>\n",
       "    <tr>\n",
       "      <th>...</th>\n",
       "      <td>...</td>\n",
       "      <td>...</td>\n",
       "      <td>...</td>\n",
       "      <td>...</td>\n",
       "      <td>...</td>\n",
       "      <td>...</td>\n",
       "      <td>...</td>\n",
       "    </tr>\n",
       "    <tr>\n",
       "      <th>115 D14</th>\n",
       "      <td>-1.243119</td>\n",
       "      <td>-0.287847</td>\n",
       "      <td>-0.185325</td>\n",
       "      <td>1.574185</td>\n",
       "      <td>-0.180516</td>\n",
       "      <td>Recovered</td>\n",
       "      <td>14</td>\n",
       "    </tr>\n",
       "    <tr>\n",
       "      <th>109 D14</th>\n",
       "      <td>-1.108373</td>\n",
       "      <td>0.300649</td>\n",
       "      <td>-0.936586</td>\n",
       "      <td>0.381335</td>\n",
       "      <td>-0.313824</td>\n",
       "      <td>Recovered</td>\n",
       "      <td>14</td>\n",
       "    </tr>\n",
       "    <tr>\n",
       "      <th>077 D14</th>\n",
       "      <td>-0.989029</td>\n",
       "      <td>-0.167100</td>\n",
       "      <td>0.565882</td>\n",
       "      <td>-2.274434</td>\n",
       "      <td>0.661160</td>\n",
       "      <td>Recovered</td>\n",
       "      <td>14</td>\n",
       "    </tr>\n",
       "    <tr>\n",
       "      <th>105 D14</th>\n",
       "      <td>-1.407834</td>\n",
       "      <td>0.513384</td>\n",
       "      <td>-0.920163</td>\n",
       "      <td>-0.040599</td>\n",
       "      <td>0.791101</td>\n",
       "      <td>Recovered</td>\n",
       "      <td>14</td>\n",
       "    </tr>\n",
       "    <tr>\n",
       "      <th>122 D14</th>\n",
       "      <td>-0.504639</td>\n",
       "      <td>-0.359453</td>\n",
       "      <td>0.532268</td>\n",
       "      <td>-1.658706</td>\n",
       "      <td>0.560807</td>\n",
       "      <td>Recovered</td>\n",
       "      <td>14</td>\n",
       "    </tr>\n",
       "  </tbody>\n",
       "</table>\n",
       "<p>107 rows × 7 columns</p>\n",
       "</div>"
      ],
      "text/plain": [
       "          Factor_1  Factor_2  Factor_3  Factor_4  Factor_5     Category  \\\n",
       "RecordID                                                                  \n",
       "180 D1   -0.491833 -0.201715  0.611882 -1.553272  1.109304  Early Death   \n",
       "028 D1    1.773959 -0.264231  0.078592 -1.628405 -0.349123  Early Death   \n",
       "175 D1    1.636698 -0.534013  0.507829 -2.070616 -0.177748  Early Death   \n",
       "196 D1    2.214427  0.265893  0.273196 -0.792716  0.369367  Early Death   \n",
       "028 D3    3.249920  0.386715 -0.649305  0.533154  1.223103  Early Death   \n",
       "...            ...       ...       ...       ...       ...          ...   \n",
       "115 D14  -1.243119 -0.287847 -0.185325  1.574185 -0.180516    Recovered   \n",
       "109 D14  -1.108373  0.300649 -0.936586  0.381335 -0.313824    Recovered   \n",
       "077 D14  -0.989029 -0.167100  0.565882 -2.274434  0.661160    Recovered   \n",
       "105 D14  -1.407834  0.513384 -0.920163 -0.040599  0.791101    Recovered   \n",
       "122 D14  -0.504639 -0.359453  0.532268 -1.658706  0.560807    Recovered   \n",
       "\n",
       "          Day_of_Sampling  \n",
       "RecordID                   \n",
       "180 D1                  1  \n",
       "028 D1                  1  \n",
       "175 D1                  1  \n",
       "196 D1                  1  \n",
       "028 D3                  3  \n",
       "...                   ...  \n",
       "115 D14                14  \n",
       "109 D14                14  \n",
       "077 D14                14  \n",
       "105 D14                14  \n",
       "122 D14                14  \n",
       "\n",
       "[107 rows x 7 columns]"
      ]
     },
     "execution_count": 7,
     "metadata": {},
     "output_type": "execute_result"
    }
   ],
   "source": [
    "data = pd.read_csv(f\"{datadir}/COVID_Luminex_deceased_recovered_factor_scores.csv\", sep=\",\", index_col=0)\n",
    "data"
   ]
  },
  {
   "cell_type": "code",
   "execution_count": 39,
   "id": "e61ad88b",
   "metadata": {},
   "outputs": [],
   "source": [
    "pretty_colors = ['#F08080','#87CEFA','#D3D3D3']"
   ]
  },
  {
   "cell_type": "code",
   "execution_count": 43,
   "id": "da9b7266",
   "metadata": {
    "scrolled": true
   },
   "outputs": [
    {
     "data": {
      "text/plain": [
       "<AxesSubplot:xlabel='Day_of_Sampling', ylabel='Factor_3'>"
      ]
     },
     "execution_count": 43,
     "metadata": {},
     "output_type": "execute_result"
    },
    {
     "data": {
      "image/png": "[encoded data removed]",
      "text/plain": [
       "<Figure size 432x288 with 1 Axes>"
      ]
     },
     "metadata": {
      "needs_background": "light"
     },
     "output_type": "display_data"
    }
   ],
   "source": [
    "sns.lineplot(data=data, x=\"Day_of_Sampling\", y=\"Factor_3\", hue=\"Category\", palette = pretty_colors, style=\"Category\", markers=True, dashes=True)"
   ]
  },
  {
   "cell_type": "code",
   "execution_count": null,
   "id": "a52e237b",
   "metadata": {},
   "outputs": [],
   "source": []
  }
 ],
 "metadata": {
  "kernelspec": {
   "display_name": "Python 3 (ipykernel)",
   "language": "python",
   "name": "python3"
  },
  "language_info": {
   "codemirror_mode": {
    "name": "ipython",
    "version": 3
   },
   "file_extension": ".py",
   "mimetype": "text/x-python",
   "name": "python",
   "nbconvert_exporter": "python",
   "pygments_lexer": "ipython3",
   "version": "3.9.12"
  }
 },
 "nbformat": 4,
 "nbformat_minor": 5
}
