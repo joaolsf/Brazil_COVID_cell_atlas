{
 "cells": [
  {
   "cell_type": "markdown",
   "id": "2f31e625",
   "metadata": {},
   "source": [
    "# MEFISTO application to longitudinal microbiome data"
   ]
  },
  {
   "cell_type": "markdown",
   "id": "bd4d0273",
   "metadata": {},
   "source": [
    "This notebook demonstrates how longitudinal data can be analysed with MEFISTO.\n",
    "\n",
    "The following files are used in this tutorial:\n",
    "microbiome_data.csv containing the microbiome data used as input,\n",
    "microbiome_features_metadata.csv containing taxonomic information for the features in the model,\n",
    "microbiome_model.hdf5 containing the pre-trained MEFISTO model.\n"
   ]
  },
  {
   "cell_type": "code",
   "execution_count": 1,
   "id": "458e042f",
   "metadata": {},
   "outputs": [
    {
     "name": "stdout",
     "output_type": "stream",
     "text": [
      "\n",
      "        #########################################################\n",
      "        ###           __  __  ____  ______                    ### \n",
      "        ###          |  \\/  |/ __ \\|  ____/\\    _             ### \n",
      "        ###          | \\  / | |  | | |__ /  \\ _| |_           ### \n",
      "        ###          | |\\/| | |  | |  __/ /\\ \\_   _|          ###\n",
      "        ###          | |  | | |__| | | / ____ \\|_|            ###\n",
      "        ###          |_|  |_|\\____/|_|/_/    \\_\\              ###\n",
      "        ###                                                   ### \n",
      "        ######################################################### \n",
      "       \n",
      " \n",
      "        \n"
     ]
    }
   ],
   "source": [
    "import numpy as np\n",
    "import pandas as pd\n",
    "import seaborn as sns\n",
    "\n",
    "from mofapy2.run.entry_point import entry_point\n",
    "import mofax\n",
    "\n",
    "# initialise the entry point\n",
    "ent = entry_point()"
   ]
  },
  {
   "cell_type": "markdown",
   "id": "e9baae79",
   "metadata": {},
   "source": [
    "# Load data"
   ]
  },
  {
   "cell_type": "markdown",
   "id": "cc426930",
   "metadata": {},
   "source": [
    "We first load the dataframe that contains the preprocessed microbiome data for all children (groups) as well as the time annotation (month of life) for each sample."
   ]
  },
  {
   "cell_type": "code",
   "execution_count": 2,
   "id": "20fd8e67",
   "metadata": {},
   "outputs": [],
   "source": [
    "datadir = \"./\""
   ]
  },
  {
   "cell_type": "code",
   "execution_count": 3,
   "id": "4cd0dd07",
   "metadata": {},
   "outputs": [
    {
     "data": {
      "text/html": [
       "<div>\n",
       "<style scoped>\n",
       "    .dataframe tbody tr th:only-of-type {\n",
       "        vertical-align: middle;\n",
       "    }\n",
       "\n",
       "    .dataframe tbody tr th {\n",
       "        vertical-align: top;\n",
       "    }\n",
       "\n",
       "    .dataframe thead th {\n",
       "        text-align: right;\n",
       "    }\n",
       "</style>\n",
       "<table border=\"1\" class=\"dataframe\">\n",
       "  <thead>\n",
       "    <tr style=\"text-align: right;\">\n",
       "      <th></th>\n",
       "      <th>group</th>\n",
       "      <th>month</th>\n",
       "      <th>feature</th>\n",
       "      <th>value</th>\n",
       "      <th>view</th>\n",
       "      <th>sample</th>\n",
       "      <th>delivery</th>\n",
       "      <th>diet</th>\n",
       "      <th>sex</th>\n",
       "    </tr>\n",
       "  </thead>\n",
       "  <tbody>\n",
       "    <tr>\n",
       "      <th>0</th>\n",
       "      <td>C001</td>\n",
       "      <td>0</td>\n",
       "      <td>ac5402de1ddf427ab8d2b0a8a0a44f19</td>\n",
       "      <td>0.616022</td>\n",
       "      <td>microbiome</td>\n",
       "      <td>C001_0</td>\n",
       "      <td>Vaginal</td>\n",
       "      <td>bd</td>\n",
       "      <td>Female</td>\n",
       "    </tr>\n",
       "    <tr>\n",
       "      <th>1</th>\n",
       "      <td>C001</td>\n",
       "      <td>0</td>\n",
       "      <td>2a2947125c677c6e27898ad4e9b9dca7</td>\n",
       "      <td>NaN</td>\n",
       "      <td>microbiome</td>\n",
       "      <td>C001_0</td>\n",
       "      <td>Vaginal</td>\n",
       "      <td>bd</td>\n",
       "      <td>Female</td>\n",
       "    </tr>\n",
       "    <tr>\n",
       "      <th>2</th>\n",
       "      <td>C001</td>\n",
       "      <td>0</td>\n",
       "      <td>0cc2420a6a4698f8bf664d50b17d26b4</td>\n",
       "      <td>NaN</td>\n",
       "      <td>microbiome</td>\n",
       "      <td>C001_0</td>\n",
       "      <td>Vaginal</td>\n",
       "      <td>bd</td>\n",
       "      <td>Female</td>\n",
       "    </tr>\n",
       "    <tr>\n",
       "      <th>3</th>\n",
       "      <td>C001</td>\n",
       "      <td>0</td>\n",
       "      <td>651794369aeb3db83839b81fe49c8b4e</td>\n",
       "      <td>NaN</td>\n",
       "      <td>microbiome</td>\n",
       "      <td>C001_0</td>\n",
       "      <td>Vaginal</td>\n",
       "      <td>bd</td>\n",
       "      <td>Female</td>\n",
       "    </tr>\n",
       "    <tr>\n",
       "      <th>4</th>\n",
       "      <td>C001</td>\n",
       "      <td>0</td>\n",
       "      <td>e6a34eb113dba66df0b8bbec907a8f5d</td>\n",
       "      <td>-0.416379</td>\n",
       "      <td>microbiome</td>\n",
       "      <td>C001_0</td>\n",
       "      <td>Vaginal</td>\n",
       "      <td>bd</td>\n",
       "      <td>Female</td>\n",
       "    </tr>\n",
       "  </tbody>\n",
       "</table>\n",
       "</div>"
      ],
      "text/plain": [
       "  group  month                           feature     value        view  \\\n",
       "0  C001      0  ac5402de1ddf427ab8d2b0a8a0a44f19  0.616022  microbiome   \n",
       "1  C001      0  2a2947125c677c6e27898ad4e9b9dca7       NaN  microbiome   \n",
       "2  C001      0  0cc2420a6a4698f8bf664d50b17d26b4       NaN  microbiome   \n",
       "3  C001      0  651794369aeb3db83839b81fe49c8b4e       NaN  microbiome   \n",
       "4  C001      0  e6a34eb113dba66df0b8bbec907a8f5d -0.416379  microbiome   \n",
       "\n",
       "   sample delivery diet     sex  \n",
       "0  C001_0  Vaginal   bd  Female  \n",
       "1  C001_0  Vaginal   bd  Female  \n",
       "2  C001_0  Vaginal   bd  Female  \n",
       "3  C001_0  Vaginal   bd  Female  \n",
       "4  C001_0  Vaginal   bd  Female  "
      ]
     },
     "execution_count": 3,
     "metadata": {},
     "output_type": "execute_result"
    }
   ],
   "source": [
    "microbiome = pd.read_csv(f\"{datadir}/microbiome_data.csv\")\n",
    "microbiome.head()"
   ]
  },
  {
   "cell_type": "code",
   "execution_count": 4,
   "id": "7f6af929",
   "metadata": {},
   "outputs": [
    {
     "data": {
      "text/html": [
       "<div>\n",
       "<style scoped>\n",
       "    .dataframe tbody tr th:only-of-type {\n",
       "        vertical-align: middle;\n",
       "    }\n",
       "\n",
       "    .dataframe tbody tr th {\n",
       "        vertical-align: top;\n",
       "    }\n",
       "\n",
       "    .dataframe thead th {\n",
       "        text-align: right;\n",
       "    }\n",
       "</style>\n",
       "<table border=\"1\" class=\"dataframe\">\n",
       "  <thead>\n",
       "    <tr style=\"text-align: right;\">\n",
       "      <th></th>\n",
       "      <th>SampleID</th>\n",
       "      <th>Taxon</th>\n",
       "      <th>Confidence</th>\n",
       "    </tr>\n",
       "  </thead>\n",
       "  <tbody>\n",
       "    <tr>\n",
       "      <th>0</th>\n",
       "      <td>ac5402de1ddf427ab8d2b0a8a0a44f19</td>\n",
       "      <td>k__Bacteria; p__Bacteroidetes; c__Bacteroidia;...</td>\n",
       "      <td>0.999770</td>\n",
       "    </tr>\n",
       "    <tr>\n",
       "      <th>1</th>\n",
       "      <td>2a2947125c677c6e27898ad4e9b9dca7</td>\n",
       "      <td>k__Bacteria; p__Firmicutes; c__Clostridia; o__...</td>\n",
       "      <td>1.000000</td>\n",
       "    </tr>\n",
       "    <tr>\n",
       "      <th>2</th>\n",
       "      <td>0cc2420a6a4698f8bf664d50b17d26b4</td>\n",
       "      <td>k__Bacteria; p__Bacteroidetes; c__Bacteroidia;...</td>\n",
       "      <td>0.968037</td>\n",
       "    </tr>\n",
       "    <tr>\n",
       "      <th>3</th>\n",
       "      <td>3d9838f12f6ff5591dbadeb427a855f1</td>\n",
       "      <td>k__Bacteria; p__Bacteroidetes; c__Bacteroidia;...</td>\n",
       "      <td>0.859635</td>\n",
       "    </tr>\n",
       "    <tr>\n",
       "      <th>4</th>\n",
       "      <td>651794369aeb3db83839b81fe49c8b4e</td>\n",
       "      <td>k__Bacteria; p__Bacteroidetes; c__Bacteroidia;...</td>\n",
       "      <td>0.995550</td>\n",
       "    </tr>\n",
       "  </tbody>\n",
       "</table>\n",
       "</div>"
      ],
      "text/plain": [
       "                           SampleID  \\\n",
       "0  ac5402de1ddf427ab8d2b0a8a0a44f19   \n",
       "1  2a2947125c677c6e27898ad4e9b9dca7   \n",
       "2  0cc2420a6a4698f8bf664d50b17d26b4   \n",
       "3  3d9838f12f6ff5591dbadeb427a855f1   \n",
       "4  651794369aeb3db83839b81fe49c8b4e   \n",
       "\n",
       "                                               Taxon  Confidence  \n",
       "0  k__Bacteria; p__Bacteroidetes; c__Bacteroidia;...    0.999770  \n",
       "1  k__Bacteria; p__Firmicutes; c__Clostridia; o__...    1.000000  \n",
       "2  k__Bacteria; p__Bacteroidetes; c__Bacteroidia;...    0.968037  \n",
       "3  k__Bacteria; p__Bacteroidetes; c__Bacteroidia;...    0.859635  \n",
       "4  k__Bacteria; p__Bacteroidetes; c__Bacteroidia;...    0.995550  "
      ]
     },
     "execution_count": 4,
     "metadata": {},
     "output_type": "execute_result"
    }
   ],
   "source": [
    "feature_meta = pd.read_csv(f\"{datadir}/microbiome_features_metadata.csv\")\n",
    "feature_meta.head()"
   ]
  },
  {
   "cell_type": "markdown",
   "id": "2488693f",
   "metadata": {},
   "source": [
    "# Prepare and train MEFISTO"
   ]
  },
  {
   "cell_type": "markdown",
   "id": "39a0cfab",
   "metadata": {},
   "source": [
    "Create the MOFA object\n",
    "\n",
    "First, we need to create a MOFA object from this data. This step is analogous to use of MOFA without the time information and can be done using create_mofa, which results in an untrained MOFA object."
   ]
  },
  {
   "cell_type": "code",
   "execution_count": 5,
   "id": "690a30d0",
   "metadata": {},
   "outputs": [
    {
     "name": "stdout",
     "output_type": "stream",
     "text": [
      "\n",
      "        #########################################################\n",
      "        ###           __  __  ____  ______                    ### \n",
      "        ###          |  \\/  |/ __ \\|  ____/\\    _             ### \n",
      "        ###          | \\  / | |  | | |__ /  \\ _| |_           ### \n",
      "        ###          | |\\/| | |  | |  __/ /\\ \\_   _|          ###\n",
      "        ###          | |  | | |__| | | / ____ \\|_|            ###\n",
      "        ###          |_|  |_|\\____/|_|/_/    \\_\\              ###\n",
      "        ###                                                   ### \n",
      "        ######################################################### \n",
      "       \n",
      " \n",
      "        \n",
      "\n",
      "\n",
      "Loaded group='C001' view='microbiome' with N=24 samples and D=969 features...\n",
      "Loaded group='C002' view='microbiome' with N=24 samples and D=969 features...\n",
      "Loaded group='C004' view='microbiome' with N=24 samples and D=969 features...\n",
      "Loaded group='C005' view='microbiome' with N=24 samples and D=969 features...\n",
      "Loaded group='C007' view='microbiome' with N=24 samples and D=969 features...\n",
      "Loaded group='C008' view='microbiome' with N=24 samples and D=969 features...\n",
      "Loaded group='C009' view='microbiome' with N=24 samples and D=969 features...\n",
      "Loaded group='C010' view='microbiome' with N=24 samples and D=969 features...\n",
      "Loaded group='C011' view='microbiome' with N=24 samples and D=969 features...\n",
      "Loaded group='C012' view='microbiome' with N=24 samples and D=969 features...\n",
      "Loaded group='C014' view='microbiome' with N=24 samples and D=969 features...\n",
      "Loaded group='C016' view='microbiome' with N=24 samples and D=969 features...\n",
      "Loaded group='C017' view='microbiome' with N=24 samples and D=969 features...\n",
      "Loaded group='C018' view='microbiome' with N=24 samples and D=969 features...\n",
      "Loaded group='C020' view='microbiome' with N=24 samples and D=969 features...\n",
      "Loaded group='C021' view='microbiome' with N=24 samples and D=969 features...\n",
      "Loaded group='C022' view='microbiome' with N=24 samples and D=969 features...\n",
      "Loaded group='C023' view='microbiome' with N=24 samples and D=969 features...\n",
      "Loaded group='C024' view='microbiome' with N=24 samples and D=969 features...\n",
      "Loaded group='C025' view='microbiome' with N=24 samples and D=969 features...\n",
      "Loaded group='C027' view='microbiome' with N=24 samples and D=969 features...\n",
      "Loaded group='C030' view='microbiome' with N=24 samples and D=969 features...\n",
      "Loaded group='C031' view='microbiome' with N=24 samples and D=969 features...\n",
      "Loaded group='C032' view='microbiome' with N=24 samples and D=969 features...\n",
      "Loaded group='C033' view='microbiome' with N=24 samples and D=969 features...\n",
      "Loaded group='C034' view='microbiome' with N=24 samples and D=969 features...\n",
      "Loaded group='C035' view='microbiome' with N=24 samples and D=969 features...\n",
      "Loaded group='C036' view='microbiome' with N=24 samples and D=969 features...\n",
      "Loaded group='C037' view='microbiome' with N=24 samples and D=969 features...\n",
      "Loaded group='C038' view='microbiome' with N=24 samples and D=969 features...\n",
      "Loaded group='C041' view='microbiome' with N=24 samples and D=969 features...\n",
      "Loaded group='C042' view='microbiome' with N=24 samples and D=969 features...\n",
      "Loaded group='C043' view='microbiome' with N=24 samples and D=969 features...\n",
      "Loaded group='C044' view='microbiome' with N=24 samples and D=969 features...\n",
      "Loaded group='C045' view='microbiome' with N=24 samples and D=969 features...\n",
      "Loaded group='C046' view='microbiome' with N=24 samples and D=969 features...\n",
      "Loaded group='C047' view='microbiome' with N=24 samples and D=969 features...\n",
      "Loaded group='C049' view='microbiome' with N=24 samples and D=969 features...\n",
      "Loaded group='C052' view='microbiome' with N=24 samples and D=969 features...\n",
      "Loaded group='C053' view='microbiome' with N=24 samples and D=969 features...\n",
      "Loaded group='C055' view='microbiome' with N=24 samples and D=969 features...\n",
      "Loaded group='C056' view='microbiome' with N=24 samples and D=969 features...\n",
      "Loaded group='C057' view='microbiome' with N=24 samples and D=969 features...\n",
      "\n",
      "\n"
     ]
    }
   ],
   "source": [
    "ent = entry_point()\n",
    "ent.set_data_options(center_groups=False)\n",
    "ent.set_data_df(microbiome)"
   ]
  },
  {
   "cell_type": "code",
   "execution_count": 7,
   "id": "fa1bb152",
   "metadata": {},
   "outputs": [],
   "source": [
    "microbiome_groups = [microbiome.loc[microbiome.group == group,[\"sample\", \"group\", \"month\"]].drop_duplicates().set_index(\"sample\") for group in ent.data_opts[\"groups_names\"]]\n",
    "ent.data_opts[\"samples_metadata\"] = microbiome_groups"
   ]
  },
  {
   "cell_type": "markdown",
   "id": "c1404ed8",
   "metadata": {},
   "source": [
    "Next, we want to add the time information for each sample, which we can do using set_covariates. As the information on the month for each sample is already contained in the data that we passed to the entry_point above, we can just specify to use this column as a covariate. Alternatively, we could also supply a new matrix or data frame providing the sample names and covariates."
   ]
  },
  {
   "cell_type": "code",
   "execution_count": 8,
   "id": "3036f7f9",
   "metadata": {},
   "outputs": [
    {
     "name": "stdout",
     "output_type": "stream",
     "text": [
      "Loaded 1 covariate(s) for each sample...\n",
      "\n",
      "\n"
     ]
    }
   ],
   "source": [
    "ent.set_covariates(\"month\", covariates_names=\"month\")"
   ]
  },
  {
   "cell_type": "markdown",
   "id": "6055dff9",
   "metadata": {},
   "source": [
    "We now need to provide model and train options:"
   ]
  },
  {
   "cell_type": "code",
   "execution_count": 9,
   "id": "fbad2428",
   "metadata": {},
   "outputs": [
    {
     "name": "stdout",
     "output_type": "stream",
     "text": [
      "WARNING: 'ard_factors' in model_options should be set to True if using multiple groups unless you are using MEFISTO\n",
      "\n",
      "Model options:\n",
      "- Automatic Relevance Determination prior on the factors: False\n",
      "- Automatic Relevance Determination prior on the weights: True\n",
      "- Spike-and-slab prior on the factors: False\n",
      "- Spike-and-slab prior on the weights: True\n",
      "Likelihoods:\n",
      "- View 0 (microbiome): gaussian\n",
      "\n",
      "\n"
     ]
    }
   ],
   "source": [
    "ent.set_model_options(factors=2)\n",
    "ent.set_train_options(seed=2020)\n",
    "ent.set_smooth_options(n_grid=10, start_opt=50, opt_freq=50)"
   ]
  },
  {
   "cell_type": "markdown",
   "id": "fa51e1c9",
   "metadata": {},
   "source": [
    "Now we are ready to use MEFISTO with this object and save the results in a specified location. As this can take some time, we provide a pre-trained model below."
   ]
  },
  {
   "cell_type": "code",
   "execution_count": 10,
   "id": "a9647416",
   "metadata": {
    "scrolled": true
   },
   "outputs": [
    {
     "name": "stdout",
     "output_type": "stream",
     "text": [
      "\n",
      "\n",
      "######################################\n",
      "## Training the model with seed 2020 ##\n",
      "######################################\n",
      "\n",
      "\n",
      "ELBO before training: -358142.68 \n",
      "\n",
      "Iteration 1: time=0.26, ELBO=-125601.16, deltaELBO=232541.518 (64.92985458%), Factors=2\n",
      "Iteration 2: time=0.21, ELBO=-123251.18, deltaELBO=2349.977 (0.65615661%), Factors=2\n",
      "Iteration 3: time=0.22, ELBO=-122595.75, deltaELBO=655.427 (0.18300730%), Factors=2\n",
      "Iteration 4: time=0.21, ELBO=-122169.49, deltaELBO=426.258 (0.11901904%), Factors=2\n",
      "Iteration 5: time=0.21, ELBO=-121858.52, deltaELBO=310.977 (0.08683041%), Factors=2\n",
      "Iteration 6: time=0.22, ELBO=-121635.96, deltaELBO=222.559 (0.06214254%), Factors=2\n",
      "Iteration 7: time=0.22, ELBO=-121480.29, deltaELBO=155.665 (0.04346440%), Factors=2\n",
      "Iteration 8: time=0.23, ELBO=-121372.74, deltaELBO=107.559 (0.03003231%), Factors=2\n",
      "Iteration 9: time=0.23, ELBO=-121297.62, deltaELBO=75.113 (0.02097294%), Factors=2\n",
      "Iteration 10: time=0.28, ELBO=-121242.47, deltaELBO=55.153 (0.01539961%), Factors=2\n",
      "Iteration 11: time=0.23, ELBO=-121199.08, deltaELBO=43.393 (0.01211610%), Factors=2\n",
      "Iteration 12: time=0.29, ELBO=-121163.91, deltaELBO=35.169 (0.00981972%), Factors=2\n",
      "Iteration 13: time=0.21, ELBO=-121136.62, deltaELBO=27.293 (0.00762081%), Factors=2\n",
      "Iteration 14: time=0.19, ELBO=-121115.03, deltaELBO=21.585 (0.00602698%), Factors=2\n",
      "Iteration 15: time=0.20, ELBO=-121096.63, deltaELBO=18.401 (0.00513785%), Factors=2\n",
      "Iteration 16: time=0.19, ELBO=-121081.13, deltaELBO=15.499 (0.00432772%), Factors=2\n",
      "Iteration 17: time=0.21, ELBO=-121068.32, deltaELBO=12.808 (0.00357626%), Factors=2\n",
      "Iteration 18: time=0.20, ELBO=-121057.24, deltaELBO=11.084 (0.00309488%), Factors=2\n",
      "Iteration 19: time=0.21, ELBO=-121048.30, deltaELBO=8.933 (0.00249428%), Factors=2\n",
      "Iteration 20: time=0.30, ELBO=-121041.05, deltaELBO=7.259 (0.00202680%), Factors=2\n",
      "Iteration 21: time=0.54, ELBO=-121034.32, deltaELBO=6.728 (0.00187849%), Factors=2\n",
      "Iteration 22: time=0.32, ELBO=-121027.90, deltaELBO=6.421 (0.00179289%), Factors=2\n",
      "Iteration 23: time=0.23, ELBO=-121021.99, deltaELBO=5.908 (0.00164959%), Factors=2\n",
      "Iteration 24: time=0.23, ELBO=-121016.37, deltaELBO=5.617 (0.00156850%), Factors=2\n",
      "Iteration 25: time=0.31, ELBO=-121010.83, deltaELBO=5.540 (0.00154675%), Factors=2\n",
      "Iteration 26: time=0.18, ELBO=-121005.83, deltaELBO=5.000 (0.00139607%), Factors=2\n",
      "Iteration 27: time=0.21, ELBO=-121001.22, deltaELBO=4.612 (0.00128763%), Factors=2\n",
      "Iteration 28: time=0.19, ELBO=-120996.13, deltaELBO=5.095 (0.00142258%), Factors=2\n",
      "Iteration 29: time=0.18, ELBO=-120991.40, deltaELBO=4.724 (0.00131889%), Factors=2\n",
      "Iteration 30: time=0.20, ELBO=-120987.39, deltaELBO=4.017 (0.00112156%), Factors=2\n",
      "Iteration 31: time=0.20, ELBO=-120983.87, deltaELBO=3.513 (0.00098103%), Factors=2\n",
      "Iteration 32: time=0.22, ELBO=-120980.94, deltaELBO=2.933 (0.00081886%), Factors=2\n",
      "Iteration 33: time=0.27, ELBO=-120978.50, deltaELBO=2.436 (0.00068015%), Factors=2\n",
      "Iteration 34: time=0.27, ELBO=-120976.33, deltaELBO=2.170 (0.00060602%), Factors=2\n",
      "Iteration 35: time=0.26, ELBO=-120974.31, deltaELBO=2.022 (0.00056453%), Factors=2\n",
      "Iteration 36: time=0.19, ELBO=-120972.33, deltaELBO=1.977 (0.00055206%), Factors=2\n",
      "Iteration 37: time=0.20, ELBO=-120970.28, deltaELBO=2.053 (0.00057321%), Factors=2\n",
      "Iteration 38: time=0.21, ELBO=-120968.14, deltaELBO=2.144 (0.00059876%), Factors=2\n",
      "Iteration 39: time=0.20, ELBO=-120966.06, deltaELBO=2.075 (0.00057947%), Factors=2\n",
      "Iteration 40: time=0.20, ELBO=-120964.17, deltaELBO=1.895 (0.00052920%), Factors=2\n",
      "Iteration 41: time=0.20, ELBO=-120962.39, deltaELBO=1.771 (0.00049463%), Factors=2\n",
      "Iteration 42: time=0.29, ELBO=-120960.63, deltaELBO=1.767 (0.00049346%), Factors=2\n",
      "Iteration 43: time=0.30, ELBO=-120958.74, deltaELBO=1.885 (0.00052637%), Factors=2\n",
      "Iteration 44: time=0.19, ELBO=-120956.64, deltaELBO=2.102 (0.00058692%), Factors=2\n",
      "Iteration 45: time=0.25, ELBO=-120954.43, deltaELBO=2.206 (0.00061595%), Factors=2\n",
      "Iteration 46: time=0.21, ELBO=-120952.44, deltaELBO=1.995 (0.00055700%), Factors=2\n",
      "Iteration 47: time=0.20, ELBO=-120950.70, deltaELBO=1.738 (0.00048519%), Factors=2\n",
      "Iteration 48: time=0.24, ELBO=-120949.03, deltaELBO=1.674 (0.00046729%), Factors=2\n",
      "Iteration 49: time=0.29, ELBO=-120947.31, deltaELBO=1.719 (0.00048006%), Factors=2\n",
      "Optimising sigma node...\n",
      "\n",
      "\n",
      "#######################\n",
      "## Training finished ##\n",
      "#######################\n",
      "\n",
      "\n",
      "Saving model in microbiome_model.hdf5...\n",
      "Note: the model to be saved is not trained.\n"
     ]
    }
   ],
   "source": [
    "ent.build()\n",
    "ent.run()\n",
    "## To get interpolated factor values\n",
    "#ent.predict_factor(microbiome.month.unique().reshape(-1, 1))\n",
    "#ent.save(f\"microbiome_model.hdf5\")"
   ]
  },
  {
   "cell_type": "markdown",
   "id": "a0672515",
   "metadata": {},
   "source": [
    "# Downstream analysis"
   ]
  },
  {
   "cell_type": "markdown",
   "id": "86cd1a2d",
   "metadata": {},
   "source": [
    "For downstream analysis we can either use R (package MOFA2) or the Python package mofax. Here we will proceed in Python and first load the pre-trained model generated by the above steps."
   ]
  },
  {
   "cell_type": "code",
   "execution_count": 26,
   "id": "89f6c8e9",
   "metadata": {},
   "outputs": [
    {
     "data": {
      "text/plain": [
       "MOFA+ model: microbiome model\n",
       "Samples (cells): 1032\n",
       "Features: 969\n",
       "Groups: C001 (24), C002 (24), C004 (24), C005 (24), C007 (24), C008 (24), C009 (24), C010 (24), C011 (24), C012 (24), C014 (24), C016 (24), C017 (24), C018 (24), C020 (24), C021 (24), C022 (24), C023 (24), C024 (24), C025 (24), C027 (24), C030 (24), C031 (24), C032 (24), C033 (24), C034 (24), C035 (24), C036 (24), C037 (24), C038 (24), C041 (24), C042 (24), C043 (24), C044 (24), C045 (24), C046 (24), C047 (24), C049 (24), C052 (24), C053 (24), C055 (24), C056 (24), C057 (24)\n",
       "Views: microbiome (969)\n",
       "Factors: 2\n",
       "Expectations: Sigma, W, Z\n",
       "\n",
       "MEFISTO:\n",
       "Covariates available: month\n",
       "Interpolated factors for 24 new values"
      ]
     },
     "execution_count": 26,
     "metadata": {},
     "output_type": "execute_result"
    }
   ],
   "source": [
    "m = mofax.mofa_model(f\"{datadir}/microbiome_model.hdf5\")\n",
    "m"
   ]
  },
  {
   "cell_type": "markdown",
   "id": "4dee0d37",
   "metadata": {},
   "source": [
    "In the case of using the pre-trained model with missing metadata, we might need to add it:"
   ]
  },
  {
   "cell_type": "code",
   "execution_count": 27,
   "id": "7d51d92e",
   "metadata": {},
   "outputs": [
    {
     "data": {
      "text/html": [
       "<div>\n",
       "<style scoped>\n",
       "    .dataframe tbody tr th:only-of-type {\n",
       "        vertical-align: middle;\n",
       "    }\n",
       "\n",
       "    .dataframe tbody tr th {\n",
       "        vertical-align: top;\n",
       "    }\n",
       "\n",
       "    .dataframe thead th {\n",
       "        text-align: right;\n",
       "    }\n",
       "</style>\n",
       "<table border=\"1\" class=\"dataframe\">\n",
       "  <thead>\n",
       "    <tr style=\"text-align: right;\">\n",
       "      <th></th>\n",
       "      <th>group</th>\n",
       "      <th>month</th>\n",
       "      <th>month_transformed</th>\n",
       "      <th>delivery</th>\n",
       "      <th>diet</th>\n",
       "      <th>sex</th>\n",
       "    </tr>\n",
       "    <tr>\n",
       "      <th>sample</th>\n",
       "      <th></th>\n",
       "      <th></th>\n",
       "      <th></th>\n",
       "      <th></th>\n",
       "      <th></th>\n",
       "      <th></th>\n",
       "    </tr>\n",
       "  </thead>\n",
       "  <tbody>\n",
       "    <tr>\n",
       "      <th>C001_0</th>\n",
       "      <td>C001</td>\n",
       "      <td>0.0</td>\n",
       "      <td>0.0</td>\n",
       "      <td>Vaginal</td>\n",
       "      <td>bd</td>\n",
       "      <td>Female</td>\n",
       "    </tr>\n",
       "    <tr>\n",
       "      <th>C001_1</th>\n",
       "      <td>C001</td>\n",
       "      <td>1.0</td>\n",
       "      <td>1.0</td>\n",
       "      <td>Vaginal</td>\n",
       "      <td>bd</td>\n",
       "      <td>Female</td>\n",
       "    </tr>\n",
       "    <tr>\n",
       "      <th>C001_2</th>\n",
       "      <td>C001</td>\n",
       "      <td>2.0</td>\n",
       "      <td>2.0</td>\n",
       "      <td>Vaginal</td>\n",
       "      <td>bd</td>\n",
       "      <td>Female</td>\n",
       "    </tr>\n",
       "    <tr>\n",
       "      <th>C001_3</th>\n",
       "      <td>C001</td>\n",
       "      <td>3.0</td>\n",
       "      <td>3.0</td>\n",
       "      <td>Vaginal</td>\n",
       "      <td>bd</td>\n",
       "      <td>Female</td>\n",
       "    </tr>\n",
       "    <tr>\n",
       "      <th>C001_4</th>\n",
       "      <td>C001</td>\n",
       "      <td>4.0</td>\n",
       "      <td>4.0</td>\n",
       "      <td>Vaginal</td>\n",
       "      <td>bd</td>\n",
       "      <td>Female</td>\n",
       "    </tr>\n",
       "  </tbody>\n",
       "</table>\n",
       "</div>"
      ],
      "text/plain": [
       "       group  month  month_transformed delivery diet     sex\n",
       "sample                                                      \n",
       "C001_0  C001    0.0                0.0  Vaginal   bd  Female\n",
       "C001_1  C001    1.0                1.0  Vaginal   bd  Female\n",
       "C001_2  C001    2.0                2.0  Vaginal   bd  Female\n",
       "C001_3  C001    3.0                3.0  Vaginal   bd  Female\n",
       "C001_4  C001    4.0                4.0  Vaginal   bd  Female"
      ]
     },
     "execution_count": 27,
     "metadata": {},
     "output_type": "execute_result"
    }
   ],
   "source": [
    "m.samples_metadata = (m.covariates.set_index([\"group\", \"month\"], \n",
    "                                             append=True).merge(\n",
    "    microbiome.loc[:,[\"sample\", \"group\", \"month\", \"delivery\", \"diet\", \"sex\"]].drop_duplicates(), \n",
    "    on=[\"sample\", \"group\", \"month\"],\n",
    "    sort=False)\n",
    ").set_index(\"sample\")\n",
    "m.samples_metadata.head()"
   ]
  },
  {
   "cell_type": "code",
   "execution_count": 28,
   "id": "66ce2f41",
   "metadata": {},
   "outputs": [],
   "source": [
    "feature_meta[[\"kingdom\", \"phylum\", \"class\", \"order\", \"family\", \"genus\", \"species\"]] = feature_meta.Taxon.str.split(\"; \", expand=True)"
   ]
  },
  {
   "cell_type": "code",
   "execution_count": 29,
   "id": "816fb00d",
   "metadata": {},
   "outputs": [
    {
     "data": {
      "text/html": [
       "<div>\n",
       "<style scoped>\n",
       "    .dataframe tbody tr th:only-of-type {\n",
       "        vertical-align: middle;\n",
       "    }\n",
       "\n",
       "    .dataframe tbody tr th {\n",
       "        vertical-align: top;\n",
       "    }\n",
       "\n",
       "    .dataframe thead th {\n",
       "        text-align: right;\n",
       "    }\n",
       "</style>\n",
       "<table border=\"1\" class=\"dataframe\">\n",
       "  <thead>\n",
       "    <tr style=\"text-align: right;\">\n",
       "      <th></th>\n",
       "      <th>view</th>\n",
       "      <th>Taxon</th>\n",
       "      <th>Confidence</th>\n",
       "      <th>kingdom</th>\n",
       "      <th>phylum</th>\n",
       "      <th>class</th>\n",
       "      <th>order</th>\n",
       "      <th>family</th>\n",
       "      <th>genus</th>\n",
       "      <th>species</th>\n",
       "    </tr>\n",
       "    <tr>\n",
       "      <th>feature</th>\n",
       "      <th></th>\n",
       "      <th></th>\n",
       "      <th></th>\n",
       "      <th></th>\n",
       "      <th></th>\n",
       "      <th></th>\n",
       "      <th></th>\n",
       "      <th></th>\n",
       "      <th></th>\n",
       "      <th></th>\n",
       "    </tr>\n",
       "  </thead>\n",
       "  <tbody>\n",
       "    <tr>\n",
       "      <th>ac5402de1ddf427ab8d2b0a8a0a44f19</th>\n",
       "      <td>microbiome</td>\n",
       "      <td>k__Bacteria; p__Bacteroidetes; c__Bacteroidia;...</td>\n",
       "      <td>0.999770</td>\n",
       "      <td>k__Bacteria</td>\n",
       "      <td>p__Bacteroidetes</td>\n",
       "      <td>c__Bacteroidia</td>\n",
       "      <td>o__Bacteroidales</td>\n",
       "      <td>f__Bacteroidaceae</td>\n",
       "      <td>g__Bacteroides</td>\n",
       "      <td>s__</td>\n",
       "    </tr>\n",
       "    <tr>\n",
       "      <th>2a2947125c677c6e27898ad4e9b9dca7</th>\n",
       "      <td>microbiome</td>\n",
       "      <td>k__Bacteria; p__Firmicutes; c__Clostridia; o__...</td>\n",
       "      <td>1.000000</td>\n",
       "      <td>k__Bacteria</td>\n",
       "      <td>p__Firmicutes</td>\n",
       "      <td>c__Clostridia</td>\n",
       "      <td>o__Clostridiales</td>\n",
       "      <td>f__[Tissierellaceae]</td>\n",
       "      <td>g__WAL_1855D</td>\n",
       "      <td>s__</td>\n",
       "    </tr>\n",
       "    <tr>\n",
       "      <th>0cc2420a6a4698f8bf664d50b17d26b4</th>\n",
       "      <td>microbiome</td>\n",
       "      <td>k__Bacteria; p__Bacteroidetes; c__Bacteroidia;...</td>\n",
       "      <td>0.968037</td>\n",
       "      <td>k__Bacteria</td>\n",
       "      <td>p__Bacteroidetes</td>\n",
       "      <td>c__Bacteroidia</td>\n",
       "      <td>o__Bacteroidales</td>\n",
       "      <td>f__Rikenellaceae</td>\n",
       "      <td>g__Alistipes</td>\n",
       "      <td>s__onderdonkii</td>\n",
       "    </tr>\n",
       "    <tr>\n",
       "      <th>651794369aeb3db83839b81fe49c8b4e</th>\n",
       "      <td>microbiome</td>\n",
       "      <td>k__Bacteria; p__Bacteroidetes; c__Bacteroidia;...</td>\n",
       "      <td>0.995550</td>\n",
       "      <td>k__Bacteria</td>\n",
       "      <td>p__Bacteroidetes</td>\n",
       "      <td>c__Bacteroidia</td>\n",
       "      <td>o__Bacteroidales</td>\n",
       "      <td>f__Prevotellaceae</td>\n",
       "      <td>g__Prevotella</td>\n",
       "      <td>s__</td>\n",
       "    </tr>\n",
       "    <tr>\n",
       "      <th>e6a34eb113dba66df0b8bbec907a8f5d</th>\n",
       "      <td>microbiome</td>\n",
       "      <td>k__Bacteria; p__Bacteroidetes; c__Bacteroidia;...</td>\n",
       "      <td>0.974159</td>\n",
       "      <td>k__Bacteria</td>\n",
       "      <td>p__Bacteroidetes</td>\n",
       "      <td>c__Bacteroidia</td>\n",
       "      <td>o__Bacteroidales</td>\n",
       "      <td>f__Rikenellaceae</td>\n",
       "      <td>g__Alistipes</td>\n",
       "      <td>s__putredinis</td>\n",
       "    </tr>\n",
       "  </tbody>\n",
       "</table>\n",
       "</div>"
      ],
      "text/plain": [
       "                                        view  \\\n",
       "feature                                        \n",
       "ac5402de1ddf427ab8d2b0a8a0a44f19  microbiome   \n",
       "2a2947125c677c6e27898ad4e9b9dca7  microbiome   \n",
       "0cc2420a6a4698f8bf664d50b17d26b4  microbiome   \n",
       "651794369aeb3db83839b81fe49c8b4e  microbiome   \n",
       "e6a34eb113dba66df0b8bbec907a8f5d  microbiome   \n",
       "\n",
       "                                                                              Taxon  \\\n",
       "feature                                                                               \n",
       "ac5402de1ddf427ab8d2b0a8a0a44f19  k__Bacteria; p__Bacteroidetes; c__Bacteroidia;...   \n",
       "2a2947125c677c6e27898ad4e9b9dca7  k__Bacteria; p__Firmicutes; c__Clostridia; o__...   \n",
       "0cc2420a6a4698f8bf664d50b17d26b4  k__Bacteria; p__Bacteroidetes; c__Bacteroidia;...   \n",
       "651794369aeb3db83839b81fe49c8b4e  k__Bacteria; p__Bacteroidetes; c__Bacteroidia;...   \n",
       "e6a34eb113dba66df0b8bbec907a8f5d  k__Bacteria; p__Bacteroidetes; c__Bacteroidia;...   \n",
       "\n",
       "                                  Confidence      kingdom            phylum  \\\n",
       "feature                                                                       \n",
       "ac5402de1ddf427ab8d2b0a8a0a44f19    0.999770  k__Bacteria  p__Bacteroidetes   \n",
       "2a2947125c677c6e27898ad4e9b9dca7    1.000000  k__Bacteria     p__Firmicutes   \n",
       "0cc2420a6a4698f8bf664d50b17d26b4    0.968037  k__Bacteria  p__Bacteroidetes   \n",
       "651794369aeb3db83839b81fe49c8b4e    0.995550  k__Bacteria  p__Bacteroidetes   \n",
       "e6a34eb113dba66df0b8bbec907a8f5d    0.974159  k__Bacteria  p__Bacteroidetes   \n",
       "\n",
       "                                           class             order  \\\n",
       "feature                                                              \n",
       "ac5402de1ddf427ab8d2b0a8a0a44f19  c__Bacteroidia  o__Bacteroidales   \n",
       "2a2947125c677c6e27898ad4e9b9dca7   c__Clostridia  o__Clostridiales   \n",
       "0cc2420a6a4698f8bf664d50b17d26b4  c__Bacteroidia  o__Bacteroidales   \n",
       "651794369aeb3db83839b81fe49c8b4e  c__Bacteroidia  o__Bacteroidales   \n",
       "e6a34eb113dba66df0b8bbec907a8f5d  c__Bacteroidia  o__Bacteroidales   \n",
       "\n",
       "                                                family           genus  \\\n",
       "feature                                                                  \n",
       "ac5402de1ddf427ab8d2b0a8a0a44f19     f__Bacteroidaceae  g__Bacteroides   \n",
       "2a2947125c677c6e27898ad4e9b9dca7  f__[Tissierellaceae]    g__WAL_1855D   \n",
       "0cc2420a6a4698f8bf664d50b17d26b4      f__Rikenellaceae    g__Alistipes   \n",
       "651794369aeb3db83839b81fe49c8b4e     f__Prevotellaceae   g__Prevotella   \n",
       "e6a34eb113dba66df0b8bbec907a8f5d      f__Rikenellaceae    g__Alistipes   \n",
       "\n",
       "                                         species  \n",
       "feature                                           \n",
       "ac5402de1ddf427ab8d2b0a8a0a44f19             s__  \n",
       "2a2947125c677c6e27898ad4e9b9dca7             s__  \n",
       "0cc2420a6a4698f8bf664d50b17d26b4  s__onderdonkii  \n",
       "651794369aeb3db83839b81fe49c8b4e             s__  \n",
       "e6a34eb113dba66df0b8bbec907a8f5d   s__putredinis  "
      ]
     },
     "execution_count": 29,
     "metadata": {},
     "output_type": "execute_result"
    }
   ],
   "source": [
    "m.features_metadata = (\n",
    "    m.features_metadata.merge(\n",
    "        feature_meta\n",
    "            .rename(columns={\"SampleID\": \"feature\"}), \n",
    "        on=\"feature\", sort=False).set_index(\"feature\")\n",
    ")\n",
    "m.features_metadata.head()"
   ]
  },
  {
   "cell_type": "markdown",
   "id": "d8ea77d5",
   "metadata": {},
   "source": [
    "# Factor overview and visualization"
   ]
  },
  {
   "cell_type": "markdown",
   "id": "aac540b3",
   "metadata": {},
   "source": [
    "# Variance decomposition and factor correlation"
   ]
  },
  {
   "cell_type": "markdown",
   "id": "e8e0e0d9",
   "metadata": {},
   "source": [
    "To obtain a first overview of the factors we can take a look at the variance that a factor explains in each child."
   ]
  },
  {
   "cell_type": "code",
   "execution_count": 30,
   "id": "fc14a256",
   "metadata": {},
   "outputs": [
    {
     "data": {
      "image/png": "[encoded data removed]",
      "text/plain": [
       "<Figure size 432x288 with 2 Axes>"
      ]
     },
     "execution_count": 30,
     "metadata": {},
     "output_type": "execute_result"
    }
   ],
   "source": [
    "mofax.plot_r2(m, cmap=\"Blues\")"
   ]
  },
  {
   "cell_type": "code",
   "execution_count": null,
   "id": "0940386a",
   "metadata": {},
   "outputs": [],
   "source": [
    "Factors versus month of life\n",
    "\n",
    "To investigate the inferred factors, we can plot them against the months of life and colour them by the metadata of the samples. Here, we color by delivery mode and diet.\n",
    "\n",
    "Using the first two factors, we can project the samples into a 2-dimensional space."
   ]
  },
  {
   "cell_type": "code",
   "execution_count": 1,
   "id": "a0c7631c",
   "metadata": {},
   "outputs": [],
   "source": [
    "cols4diet = {\"fd\": \"#1f78b4\", \"bd\": \"#b2df8a\"}\n",
    "cols4delivery = {\"Cesarean\": \"#e6ab02\", \"Vaginal\": \"#d95f02\"}"
   ]
  },
  {
   "cell_type": "code",
   "execution_count": 2,
   "id": "e4554431",
   "metadata": {},
   "outputs": [
    {
     "ename": "NameError",
     "evalue": "name 'mofax' is not defined",
     "output_type": "error",
     "traceback": [
      "\u001b[0;31m---------------------------------------------------------------------------\u001b[0m",
      "\u001b[0;31mNameError\u001b[0m                                 Traceback (most recent call last)",
      "\u001b[0;32m/var/folders/hc/28dmx58d20x1tv_4srhz6f0h0000gn/T/ipykernel_6782/2060475647.py\u001b[0m in \u001b[0;36m<module>\u001b[0;34m\u001b[0m\n\u001b[0;32m----> 1\u001b[0;31m mofax.plot_factors(m, x=\"month\", y=[0, 1], \n\u001b[0m\u001b[1;32m      2\u001b[0m                    color=\"delivery\", palette=cols4delivery, alpha=.7)\n",
      "\u001b[0;31mNameError\u001b[0m: name 'mofax' is not defined"
     ]
    }
   ],
   "source": [
    "mofax.plot_factors(m, x=\"month\", y=[0, 1], \n",
    "                   color=\"delivery\", palette=cols4delivery, alpha=.7)"
   ]
  },
  {
   "cell_type": "code",
   "execution_count": 33,
   "id": "a9eca09b",
   "metadata": {},
   "outputs": [
    {
     "ename": "ValueError",
     "evalue": "Could not generate a palette for <map object at 0x144495880>",
     "output_type": "error",
     "traceback": [
      "\u001b[0;31m---------------------------------------------------------------------------\u001b[0m",
      "\u001b[0;31mValueError\u001b[0m                                Traceback (most recent call last)",
      "\u001b[0;32m~/anaconda3/lib/python3.9/site-packages/seaborn/palettes.py\u001b[0m in \u001b[0;36mcolor_palette\u001b[0;34m(palette, n_colors, desat, as_cmap)\u001b[0m\n\u001b[1;32m    221\u001b[0m             \u001b[0mpalette\u001b[0m \u001b[0;34m=\u001b[0m \u001b[0mmap\u001b[0m\u001b[0;34m(\u001b[0m\u001b[0mmpl\u001b[0m\u001b[0;34m.\u001b[0m\u001b[0mcolors\u001b[0m\u001b[0;34m.\u001b[0m\u001b[0mcolorConverter\u001b[0m\u001b[0;34m.\u001b[0m\u001b[0mto_rgb\u001b[0m\u001b[0;34m,\u001b[0m \u001b[0mpalette\u001b[0m\u001b[0;34m)\u001b[0m\u001b[0;34m\u001b[0m\u001b[0;34m\u001b[0m\u001b[0m\n\u001b[0;32m--> 222\u001b[0;31m             \u001b[0mpalette\u001b[0m \u001b[0;34m=\u001b[0m \u001b[0m_ColorPalette\u001b[0m\u001b[0;34m(\u001b[0m\u001b[0mpalette\u001b[0m\u001b[0;34m)\u001b[0m\u001b[0;34m\u001b[0m\u001b[0;34m\u001b[0m\u001b[0m\n\u001b[0m\u001b[1;32m    223\u001b[0m         \u001b[0;32mexcept\u001b[0m \u001b[0mValueError\u001b[0m\u001b[0;34m:\u001b[0m\u001b[0;34m\u001b[0m\u001b[0;34m\u001b[0m\u001b[0m\n",
      "\u001b[0;32m~/anaconda3/lib/python3.9/site-packages/matplotlib/colors.py\u001b[0m in \u001b[0;36mto_rgb\u001b[0;34m(c)\u001b[0m\n\u001b[1;32m    393\u001b[0m     \u001b[0;34m\"\"\"Convert *c* to an RGB color, silently dropping the alpha channel.\"\"\"\u001b[0m\u001b[0;34m\u001b[0m\u001b[0;34m\u001b[0m\u001b[0m\n\u001b[0;32m--> 394\u001b[0;31m     \u001b[0;32mreturn\u001b[0m \u001b[0mto_rgba\u001b[0m\u001b[0;34m(\u001b[0m\u001b[0mc\u001b[0m\u001b[0;34m)\u001b[0m\u001b[0;34m[\u001b[0m\u001b[0;34m:\u001b[0m\u001b[0;36m3\u001b[0m\u001b[0;34m]\u001b[0m\u001b[0;34m\u001b[0m\u001b[0;34m\u001b[0m\u001b[0m\n\u001b[0m\u001b[1;32m    395\u001b[0m \u001b[0;34m\u001b[0m\u001b[0m\n",
      "\u001b[0;32m~/anaconda3/lib/python3.9/site-packages/matplotlib/colors.py\u001b[0m in \u001b[0;36mto_rgba\u001b[0;34m(c, alpha)\u001b[0m\n\u001b[1;32m    205\u001b[0m     \u001b[0;32mif\u001b[0m \u001b[0mrgba\u001b[0m \u001b[0;32mis\u001b[0m \u001b[0;32mNone\u001b[0m\u001b[0;34m:\u001b[0m  \u001b[0;31m# Suppress exception chaining of cache lookup failure.\u001b[0m\u001b[0;34m\u001b[0m\u001b[0;34m\u001b[0m\u001b[0m\n\u001b[0;32m--> 206\u001b[0;31m         \u001b[0mrgba\u001b[0m \u001b[0;34m=\u001b[0m \u001b[0m_to_rgba_no_colorcycle\u001b[0m\u001b[0;34m(\u001b[0m\u001b[0mc\u001b[0m\u001b[0;34m,\u001b[0m \u001b[0malpha\u001b[0m\u001b[0;34m)\u001b[0m\u001b[0;34m\u001b[0m\u001b[0;34m\u001b[0m\u001b[0m\n\u001b[0m\u001b[1;32m    207\u001b[0m         \u001b[0;32mtry\u001b[0m\u001b[0;34m:\u001b[0m\u001b[0;34m\u001b[0m\u001b[0;34m\u001b[0m\u001b[0m\n",
      "\u001b[0;32m~/anaconda3/lib/python3.9/site-packages/matplotlib/colors.py\u001b[0m in \u001b[0;36m_to_rgba_no_colorcycle\u001b[0;34m(c, alpha)\u001b[0m\n\u001b[1;32m    276\u001b[0m             \u001b[0;32mreturn\u001b[0m \u001b[0mc\u001b[0m\u001b[0;34m,\u001b[0m \u001b[0mc\u001b[0m\u001b[0;34m,\u001b[0m \u001b[0mc\u001b[0m\u001b[0;34m,\u001b[0m \u001b[0malpha\u001b[0m \u001b[0;32mif\u001b[0m \u001b[0malpha\u001b[0m \u001b[0;32mis\u001b[0m \u001b[0;32mnot\u001b[0m \u001b[0;32mNone\u001b[0m \u001b[0;32melse\u001b[0m \u001b[0;36m1.\u001b[0m\u001b[0;34m\u001b[0m\u001b[0;34m\u001b[0m\u001b[0m\n\u001b[0;32m--> 277\u001b[0;31m         \u001b[0;32mraise\u001b[0m \u001b[0mValueError\u001b[0m\u001b[0;34m(\u001b[0m\u001b[0;34mf\"Invalid RGBA argument: {orig_c!r}\"\u001b[0m\u001b[0;34m)\u001b[0m\u001b[0;34m\u001b[0m\u001b[0;34m\u001b[0m\u001b[0m\n\u001b[0m\u001b[1;32m    278\u001b[0m     \u001b[0;31m# turn 2-D array into 1-D array\u001b[0m\u001b[0;34m\u001b[0m\u001b[0;34m\u001b[0m\u001b[0m\n",
      "\u001b[0;31mValueError\u001b[0m: Invalid RGBA argument: 'fd'",
      "\nDuring handling of the above exception, another exception occurred:\n",
      "\u001b[0;31mValueError\u001b[0m                                Traceback (most recent call last)",
      "\u001b[0;32m/var/folders/hc/28dmx58d20x1tv_4srhz6f0h0000gn/T/ipykernel_27105/2223750095.py\u001b[0m in \u001b[0;36m<module>\u001b[0;34m\u001b[0m\n\u001b[0;32m----> 1\u001b[0;31m mofax.plot_factors(m, x=\"month\", y=[0, 1], \n\u001b[0m\u001b[1;32m      2\u001b[0m                    color=\"diet\", palette=cols4diet, alpha=.7)\n",
      "\u001b[0;32m~/anaconda3/lib/python3.9/site-packages/mofax/plot_factors.py\u001b[0m in \u001b[0;36mplot_factors_scatter\u001b[0;34m(model, x, y, dist, groups, group_label, color, zero_line_x, zero_line_y, linewidth, zero_linewidth, size, legend, legend_prop, palette, ncols, sharex, sharey, **kwargs)\u001b[0m\n\u001b[1;32m    148\u001b[0m             \u001b[0ms\u001b[0m\u001b[0;34m=\u001b[0m\u001b[0msize\u001b[0m\u001b[0;34m,\u001b[0m\u001b[0;34m\u001b[0m\u001b[0;34m\u001b[0m\u001b[0m\n\u001b[1;32m    149\u001b[0m         )\n\u001b[0;32m--> 150\u001b[0;31m         g = _plot_factors(\n\u001b[0m\u001b[1;32m    151\u001b[0m             \u001b[0mplot\u001b[0m\u001b[0;34m,\u001b[0m\u001b[0;34m\u001b[0m\u001b[0;34m\u001b[0m\u001b[0m\n\u001b[1;32m    152\u001b[0m             \u001b[0mmodel\u001b[0m\u001b[0;34m,\u001b[0m\u001b[0;34m\u001b[0m\u001b[0;34m\u001b[0m\u001b[0m\n",
      "\u001b[0;32m~/anaconda3/lib/python3.9/site-packages/mofax/plot_factors.py\u001b[0m in \u001b[0;36m_plot_factors\u001b[0;34m(plot_func, model, x, y, color, groups, group_label, zero_line_x, zero_line_y, linewidth, zero_linewidth, legend, legend_prop, palette, ncols, sharex, sharey, **kwargs)\u001b[0m\n\u001b[1;32m    266\u001b[0m         \u001b[0mz\u001b[0m \u001b[0;34m=\u001b[0m \u001b[0mz\u001b[0m\u001b[0;34m[\u001b[0m\u001b[0mz\u001b[0m\u001b[0;34m[\u001b[0m\u001b[0mgroup_label\u001b[0m\u001b[0;34m]\u001b[0m\u001b[0;34m.\u001b[0m\u001b[0misin\u001b[0m\u001b[0;34m(\u001b[0m\u001b[0mgroups\u001b[0m\u001b[0;34m)\u001b[0m\u001b[0;34m]\u001b[0m\u001b[0;34m\u001b[0m\u001b[0;34m\u001b[0m\u001b[0m\n\u001b[1;32m    267\u001b[0m \u001b[0;34m\u001b[0m\u001b[0m\n\u001b[0;32m--> 268\u001b[0;31m     g = _plot_grid(\n\u001b[0m\u001b[1;32m    269\u001b[0m         \u001b[0mplot_func\u001b[0m\u001b[0;34m,\u001b[0m\u001b[0;34m\u001b[0m\u001b[0;34m\u001b[0m\u001b[0m\n\u001b[1;32m    270\u001b[0m         \u001b[0mz\u001b[0m\u001b[0;34m,\u001b[0m\u001b[0;34m\u001b[0m\u001b[0;34m\u001b[0m\u001b[0m\n",
      "\u001b[0;32m~/anaconda3/lib/python3.9/site-packages/mofax/plot_utils.py\u001b[0m in \u001b[0;36m_plot_grid\u001b[0;34m(plot_func, data, x, y, color, **kwargs)\u001b[0m\n\u001b[1;32m     29\u001b[0m             \u001b[0;32massert\u001b[0m \u001b[0;32mnot\u001b[0m \u001b[0m_is_iter\u001b[0m\u001b[0;34m(\u001b[0m\u001b[0mx\u001b[0m\u001b[0;34m)\u001b[0m\u001b[0;34m,\u001b[0m \u001b[0mMSG_ONLY_2D\u001b[0m\u001b[0;34m\u001b[0m\u001b[0;34m\u001b[0m\u001b[0m\n\u001b[1;32m     30\u001b[0m         \u001b[0;32melse\u001b[0m\u001b[0;34m:\u001b[0m\u001b[0;34m\u001b[0m\u001b[0;34m\u001b[0m\u001b[0m\n\u001b[0;32m---> 31\u001b[0;31m             \u001b[0;32mreturn\u001b[0m \u001b[0m_plot_grid_from_1d\u001b[0m\u001b[0;34m(\u001b[0m\u001b[0mplot_func\u001b[0m\u001b[0;34m,\u001b[0m \u001b[0mdata\u001b[0m\u001b[0;34m,\u001b[0m \u001b[0mx\u001b[0m\u001b[0;34m,\u001b[0m \u001b[0my\u001b[0m\u001b[0;34m,\u001b[0m \u001b[0mcolor\u001b[0m\u001b[0;34m,\u001b[0m \u001b[0;34m\"y\"\u001b[0m\u001b[0;34m,\u001b[0m \u001b[0;34m**\u001b[0m\u001b[0mkwargs\u001b[0m\u001b[0;34m)\u001b[0m\u001b[0;34m\u001b[0m\u001b[0;34m\u001b[0m\u001b[0m\n\u001b[0m\u001b[1;32m     32\u001b[0m         \u001b[0;32mreturn\u001b[0m \u001b[0m_plot_2d_grid\u001b[0m\u001b[0;34m(\u001b[0m\u001b[0mplot_func\u001b[0m\u001b[0;34m,\u001b[0m \u001b[0mdata\u001b[0m\u001b[0;34m,\u001b[0m \u001b[0mx\u001b[0m\u001b[0;34m,\u001b[0m \u001b[0my\u001b[0m\u001b[0;34m,\u001b[0m \u001b[0mcolor\u001b[0m\u001b[0;34m,\u001b[0m \u001b[0;34m**\u001b[0m\u001b[0mkwargs\u001b[0m\u001b[0;34m)\u001b[0m\u001b[0;34m\u001b[0m\u001b[0;34m\u001b[0m\u001b[0m\n\u001b[1;32m     33\u001b[0m     \u001b[0;32melif\u001b[0m \u001b[0m_is_iter\u001b[0m\u001b[0;34m(\u001b[0m\u001b[0mcolor\u001b[0m\u001b[0;34m)\u001b[0m\u001b[0;34m:\u001b[0m\u001b[0;34m\u001b[0m\u001b[0;34m\u001b[0m\u001b[0m\n",
      "\u001b[0;32m~/anaconda3/lib/python3.9/site-packages/mofax/plot_utils.py\u001b[0m in \u001b[0;36m_plot_grid_from_1d\u001b[0;34m(plot_func, data, x, y, color, split_axis, ncols, zero_line_x, zero_line_y, linewidth, zero_linewidth, legend, legend_prop, palette, sharex, sharey, modifier, **kwargs)\u001b[0m\n\u001b[1;32m    114\u001b[0m         \u001b[0;31m# data_ = data.sort_values(color) if color is not None and color != [None] else data\u001b[0m\u001b[0;34m\u001b[0m\u001b[0;34m\u001b[0m\u001b[0m\n\u001b[1;32m    115\u001b[0m \u001b[0;34m\u001b[0m\u001b[0m\n\u001b[0;32m--> 116\u001b[0;31m         \u001b[0;32mwith\u001b[0m \u001b[0msns\u001b[0m\u001b[0;34m.\u001b[0m\u001b[0maxes_style\u001b[0m\u001b[0;34m(\u001b[0m\u001b[0;34m\"ticks\"\u001b[0m\u001b[0;34m)\u001b[0m\u001b[0;34m,\u001b[0m \u001b[0msns\u001b[0m\u001b[0;34m.\u001b[0m\u001b[0mcolor_palette\u001b[0m\u001b[0;34m(\u001b[0m\u001b[0mpalette\u001b[0m \u001b[0;32mor\u001b[0m \u001b[0;34m\"Set2\"\u001b[0m\u001b[0;34m)\u001b[0m\u001b[0;34m:\u001b[0m\u001b[0;34m\u001b[0m\u001b[0;34m\u001b[0m\u001b[0m\n\u001b[0m\u001b[1;32m    117\u001b[0m \u001b[0;34m\u001b[0m\u001b[0m\n\u001b[1;32m    118\u001b[0m             g = plot_func(\n",
      "\u001b[0;32m~/anaconda3/lib/python3.9/site-packages/seaborn/palettes.py\u001b[0m in \u001b[0;36mcolor_palette\u001b[0;34m(palette, n_colors, desat, as_cmap)\u001b[0m\n\u001b[1;32m    222\u001b[0m             \u001b[0mpalette\u001b[0m \u001b[0;34m=\u001b[0m \u001b[0m_ColorPalette\u001b[0m\u001b[0;34m(\u001b[0m\u001b[0mpalette\u001b[0m\u001b[0;34m)\u001b[0m\u001b[0;34m\u001b[0m\u001b[0;34m\u001b[0m\u001b[0m\n\u001b[1;32m    223\u001b[0m         \u001b[0;32mexcept\u001b[0m \u001b[0mValueError\u001b[0m\u001b[0;34m:\u001b[0m\u001b[0;34m\u001b[0m\u001b[0;34m\u001b[0m\u001b[0m\n\u001b[0;32m--> 224\u001b[0;31m             \u001b[0;32mraise\u001b[0m \u001b[0mValueError\u001b[0m\u001b[0;34m(\u001b[0m\u001b[0;34mf\"Could not generate a palette for {palette}\"\u001b[0m\u001b[0;34m)\u001b[0m\u001b[0;34m\u001b[0m\u001b[0;34m\u001b[0m\u001b[0m\n\u001b[0m\u001b[1;32m    225\u001b[0m \u001b[0;34m\u001b[0m\u001b[0m\n\u001b[1;32m    226\u001b[0m     \u001b[0;32mreturn\u001b[0m \u001b[0mpalette\u001b[0m\u001b[0;34m\u001b[0m\u001b[0;34m\u001b[0m\u001b[0m\n",
      "\u001b[0;31mValueError\u001b[0m: Could not generate a palette for <map object at 0x144495880>"
     ]
    },
    {
     "data": {
      "image/png": "[encoded data removed]",
      "text/plain": [
       "<Figure size 864x288 with 2 Axes>"
      ]
     },
     "metadata": {
      "needs_background": "light"
     },
     "output_type": "display_data"
    }
   ],
   "source": [
    "mofax.plot_factors(m, x=\"month\", y=[0, 1], \n",
    "                   color=\"diet\", palette=cols4diet, alpha=.7)"
   ]
  },
  {
   "cell_type": "markdown",
   "id": "ef1a389c",
   "metadata": {},
   "source": [
    "# Interpolation"
   ]
  },
  {
   "cell_type": "markdown",
   "id": "f05bbbcb",
   "metadata": {},
   "source": [
    "Using the underlying Gaussian process for each factor we can interpolate to unseen time points for children that are missing data in these time points and intermediate time points.\n",
    "\n",
    "We will plot values for the first 5 children:"
   ]
  },
  {
   "cell_type": "code",
   "execution_count": 35,
   "id": "a463cf75",
   "metadata": {},
   "outputs": [
    {
     "ename": "AssertionError",
     "evalue": "Requested features are not found",
     "output_type": "error",
     "traceback": [
      "\u001b[0;31m---------------------------------------------------------------------------\u001b[0m",
      "\u001b[0;31mAssertionError\u001b[0m                            Traceback (most recent call last)",
      "\u001b[0;32m/var/folders/hc/28dmx58d20x1tv_4srhz6f0h0000gn/T/ipykernel_27105/2192065228.py\u001b[0m in \u001b[0;36m<module>\u001b[0;34m\u001b[0m\n\u001b[1;32m      1\u001b[0m \u001b[0;31m#Using the first two factors, we can project the samples into a 2-dimensional space.\u001b[0m\u001b[0;34m\u001b[0m\u001b[0;34m\u001b[0m\u001b[0m\n\u001b[0;32m----> 2\u001b[0;31m \u001b[0mmofax\u001b[0m\u001b[0;34m.\u001b[0m\u001b[0mplot_factors_scatter\u001b[0m\u001b[0;34m(\u001b[0m\u001b[0mm\u001b[0m\u001b[0;34m,\u001b[0m \u001b[0mx\u001b[0m\u001b[0;34m=\u001b[0m\u001b[0;36m0\u001b[0m\u001b[0;34m,\u001b[0m \u001b[0my\u001b[0m\u001b[0;34m=\u001b[0m\u001b[0;36m1\u001b[0m\u001b[0;34m,\u001b[0m \u001b[0mcolor\u001b[0m\u001b[0;34m=\u001b[0m\u001b[0;34m[\u001b[0m\u001b[0;34m\"group\"\u001b[0m\u001b[0;34m,\u001b[0m \u001b[0;34m\"time\"\u001b[0m\u001b[0;34m,\u001b[0m \u001b[0;34m\"time_transformed\"\u001b[0m\u001b[0;34m]\u001b[0m\u001b[0;34m)\u001b[0m\u001b[0;34m\u001b[0m\u001b[0;34m\u001b[0m\u001b[0m\n\u001b[0m",
      "\u001b[0;32m~/anaconda3/lib/python3.9/site-packages/mofax/plot_factors.py\u001b[0m in \u001b[0;36mplot_factors_scatter\u001b[0;34m(model, x, y, dist, groups, group_label, color, zero_line_x, zero_line_y, linewidth, zero_linewidth, size, legend, legend_prop, palette, ncols, sharex, sharey, **kwargs)\u001b[0m\n\u001b[1;32m    148\u001b[0m             \u001b[0ms\u001b[0m\u001b[0;34m=\u001b[0m\u001b[0msize\u001b[0m\u001b[0;34m,\u001b[0m\u001b[0;34m\u001b[0m\u001b[0;34m\u001b[0m\u001b[0m\n\u001b[1;32m    149\u001b[0m         )\n\u001b[0;32m--> 150\u001b[0;31m         g = _plot_factors(\n\u001b[0m\u001b[1;32m    151\u001b[0m             \u001b[0mplot\u001b[0m\u001b[0;34m,\u001b[0m\u001b[0;34m\u001b[0m\u001b[0;34m\u001b[0m\u001b[0m\n\u001b[1;32m    152\u001b[0m             \u001b[0mmodel\u001b[0m\u001b[0;34m,\u001b[0m\u001b[0;34m\u001b[0m\u001b[0;34m\u001b[0m\u001b[0m\n",
      "\u001b[0;32m~/anaconda3/lib/python3.9/site-packages/mofax/plot_factors.py\u001b[0m in \u001b[0;36m_plot_factors\u001b[0;34m(plot_func, model, x, y, color, groups, group_label, zero_line_x, zero_line_y, linewidth, zero_linewidth, legend, legend_prop, palette, ncols, sharex, sharey, **kwargs)\u001b[0m\n\u001b[1;32m    258\u001b[0m     \u001b[0mvars\u001b[0m \u001b[0;34m=\u001b[0m \u001b[0;34m[\u001b[0m\u001b[0mv\u001b[0m \u001b[0;32mfor\u001b[0m \u001b[0mv\u001b[0m \u001b[0;32min\u001b[0m \u001b[0mvars\u001b[0m \u001b[0;32mif\u001b[0m \u001b[0mv\u001b[0m \u001b[0;32mnot\u001b[0m \u001b[0;32min\u001b[0m \u001b[0mz\u001b[0m\u001b[0;34m.\u001b[0m\u001b[0mcolumns\u001b[0m\u001b[0;34m]\u001b[0m\u001b[0;34m\u001b[0m\u001b[0;34m\u001b[0m\u001b[0m\n\u001b[1;32m    259\u001b[0m     \u001b[0;32mif\u001b[0m \u001b[0many\u001b[0m\u001b[0;34m(\u001b[0m\u001b[0;34m[\u001b[0m\u001b[0;32mnot\u001b[0m \u001b[0;34m(\u001b[0m\u001b[0;32mnot\u001b[0m \u001b[0;34m(\u001b[0m\u001b[0mi\u001b[0m\u001b[0;34m)\u001b[0m\u001b[0;34m)\u001b[0m \u001b[0;32mfor\u001b[0m \u001b[0mi\u001b[0m \u001b[0;32min\u001b[0m \u001b[0mvars\u001b[0m\u001b[0;34m]\u001b[0m\u001b[0;34m)\u001b[0m\u001b[0;34m:\u001b[0m\u001b[0;34m\u001b[0m\u001b[0;34m\u001b[0m\u001b[0m\n\u001b[0;32m--> 260\u001b[0;31m         \u001b[0mmeta\u001b[0m \u001b[0;34m=\u001b[0m \u001b[0mmodel\u001b[0m\u001b[0;34m.\u001b[0m\u001b[0mfetch_values\u001b[0m\u001b[0;34m(\u001b[0m\u001b[0mvariables\u001b[0m\u001b[0;34m=\u001b[0m\u001b[0mvars\u001b[0m\u001b[0;34m)\u001b[0m\u001b[0;34m\u001b[0m\u001b[0;34m\u001b[0m\u001b[0m\n\u001b[0m\u001b[1;32m    261\u001b[0m         \u001b[0mz\u001b[0m \u001b[0;34m=\u001b[0m \u001b[0mz\u001b[0m\u001b[0;34m.\u001b[0m\u001b[0mrename_axis\u001b[0m\u001b[0;34m(\u001b[0m\u001b[0;34m\"sample\"\u001b[0m\u001b[0;34m)\u001b[0m\u001b[0;34m.\u001b[0m\u001b[0mreset_index\u001b[0m\u001b[0;34m(\u001b[0m\u001b[0;34m)\u001b[0m\u001b[0;34m\u001b[0m\u001b[0;34m\u001b[0m\u001b[0m\n\u001b[1;32m    262\u001b[0m         \u001b[0mz\u001b[0m \u001b[0;34m=\u001b[0m \u001b[0mz\u001b[0m\u001b[0;34m.\u001b[0m\u001b[0mset_index\u001b[0m\u001b[0;34m(\u001b[0m\u001b[0;34m\"sample\"\u001b[0m\u001b[0;34m)\u001b[0m\u001b[0;34m.\u001b[0m\u001b[0mjoin\u001b[0m\u001b[0;34m(\u001b[0m\u001b[0mmeta\u001b[0m\u001b[0;34m)\u001b[0m\u001b[0;34m.\u001b[0m\u001b[0mreset_index\u001b[0m\u001b[0;34m(\u001b[0m\u001b[0;34m)\u001b[0m\u001b[0;34m\u001b[0m\u001b[0;34m\u001b[0m\u001b[0m\n",
      "\u001b[0;32m~/anaconda3/lib/python3.9/site-packages/mofax/core.py\u001b[0m in \u001b[0;36mfetch_values\u001b[0;34m(self, variables, unique)\u001b[0m\n\u001b[1;32m    831\u001b[0m             \u001b[0mvar_list\u001b[0m\u001b[0;34m.\u001b[0m\u001b[0mappend\u001b[0m\u001b[0;34m(\u001b[0m\u001b[0mself\u001b[0m\u001b[0;34m.\u001b[0m\u001b[0mmetadata\u001b[0m\u001b[0;34m[\u001b[0m\u001b[0mvar_meta\u001b[0m\u001b[0;34m]\u001b[0m\u001b[0;34m)\u001b[0m\u001b[0;34m\u001b[0m\u001b[0;34m\u001b[0m\u001b[0m\n\u001b[1;32m    832\u001b[0m         \u001b[0;32mif\u001b[0m \u001b[0mlen\u001b[0m\u001b[0;34m(\u001b[0m\u001b[0mvar_features\u001b[0m\u001b[0;34m)\u001b[0m \u001b[0;34m>\u001b[0m \u001b[0;36m0\u001b[0m\u001b[0;34m:\u001b[0m\u001b[0;34m\u001b[0m\u001b[0;34m\u001b[0m\u001b[0m\n\u001b[0;32m--> 833\u001b[0;31m             \u001b[0mvar_list\u001b[0m\u001b[0;34m.\u001b[0m\u001b[0mappend\u001b[0m\u001b[0;34m(\u001b[0m\u001b[0mself\u001b[0m\u001b[0;34m.\u001b[0m\u001b[0mget_data\u001b[0m\u001b[0;34m(\u001b[0m\u001b[0mfeatures\u001b[0m\u001b[0;34m=\u001b[0m\u001b[0mvar_features\u001b[0m\u001b[0;34m,\u001b[0m \u001b[0mdf\u001b[0m\u001b[0;34m=\u001b[0m\u001b[0;32mTrue\u001b[0m\u001b[0;34m)\u001b[0m\u001b[0;34m)\u001b[0m\u001b[0;34m\u001b[0m\u001b[0;34m\u001b[0m\u001b[0m\n\u001b[0m\u001b[1;32m    834\u001b[0m         \u001b[0;32mif\u001b[0m \u001b[0mlen\u001b[0m\u001b[0;34m(\u001b[0m\u001b[0mvar_factors\u001b[0m\u001b[0;34m)\u001b[0m \u001b[0;34m>\u001b[0m \u001b[0;36m0\u001b[0m\u001b[0;34m:\u001b[0m\u001b[0;34m\u001b[0m\u001b[0;34m\u001b[0m\u001b[0m\n\u001b[1;32m    835\u001b[0m             \u001b[0mvar_list\u001b[0m\u001b[0;34m.\u001b[0m\u001b[0mappend\u001b[0m\u001b[0;34m(\u001b[0m\u001b[0mself\u001b[0m\u001b[0;34m.\u001b[0m\u001b[0mget_factors\u001b[0m\u001b[0;34m(\u001b[0m\u001b[0mfactors\u001b[0m\u001b[0;34m=\u001b[0m\u001b[0mvar_factors\u001b[0m\u001b[0;34m,\u001b[0m \u001b[0mdf\u001b[0m\u001b[0;34m=\u001b[0m\u001b[0;32mTrue\u001b[0m\u001b[0;34m)\u001b[0m\u001b[0;34m)\u001b[0m\u001b[0;34m\u001b[0m\u001b[0;34m\u001b[0m\u001b[0m\n",
      "\u001b[0;32m~/anaconda3/lib/python3.9/site-packages/mofax/core.py\u001b[0m in \u001b[0;36mget_data\u001b[0;34m(self, views, features, groups, df)\u001b[0m\n\u001b[1;32m    702\u001b[0m \u001b[0;34m\u001b[0m\u001b[0m\n\u001b[1;32m    703\u001b[0m         \u001b[0mf_i\u001b[0m \u001b[0;34m=\u001b[0m \u001b[0mnp\u001b[0m\u001b[0;34m.\u001b[0m\u001b[0mwhere\u001b[0m\u001b[0;34m(\u001b[0m\u001b[0mpd_features\u001b[0m\u001b[0;34m.\u001b[0m\u001b[0mfeature\u001b[0m\u001b[0;34m.\u001b[0m\u001b[0misin\u001b[0m\u001b[0;34m(\u001b[0m\u001b[0mfeatures\u001b[0m\u001b[0;34m)\u001b[0m\u001b[0;34m)\u001b[0m\u001b[0;34m[\u001b[0m\u001b[0;36m0\u001b[0m\u001b[0;34m]\u001b[0m\u001b[0;34m\u001b[0m\u001b[0;34m\u001b[0m\u001b[0m\n\u001b[0;32m--> 704\u001b[0;31m         \u001b[0;32massert\u001b[0m \u001b[0mlen\u001b[0m\u001b[0;34m(\u001b[0m\u001b[0mf_i\u001b[0m\u001b[0;34m)\u001b[0m \u001b[0;34m>\u001b[0m \u001b[0;36m0\u001b[0m\u001b[0;34m,\u001b[0m \u001b[0;34m\"Requested features are not found\"\u001b[0m\u001b[0;34m\u001b[0m\u001b[0;34m\u001b[0m\u001b[0m\n\u001b[0m\u001b[1;32m    705\u001b[0m         \u001b[0mpd_features\u001b[0m \u001b[0;34m=\u001b[0m \u001b[0mpd_features\u001b[0m\u001b[0;34m.\u001b[0m\u001b[0mloc\u001b[0m\u001b[0;34m[\u001b[0m\u001b[0mf_i\u001b[0m\u001b[0;34m]\u001b[0m\u001b[0;34m\u001b[0m\u001b[0;34m\u001b[0m\u001b[0m\n\u001b[1;32m    706\u001b[0m \u001b[0;34m\u001b[0m\u001b[0m\n",
      "\u001b[0;31mAssertionError\u001b[0m: Requested features are not found"
     ]
    }
   ],
   "source": [
    "#Using the first two factors, we can project the samples into a 2-dimensional space.\n",
    "mofax.plot_factors_scatter(m, x=0, y=1, color=[\"group\", \"time\", \"time_transformed\"])"
   ]
  },
  {
   "cell_type": "code",
   "execution_count": 36,
   "id": "ad7a1c48",
   "metadata": {},
   "outputs": [
    {
     "data": {
      "text/plain": [
       "<AxesSubplot:title={'center':'Factor2'}, xlabel='month_transformed', ylabel='Factor2'>"
      ]
     },
     "execution_count": 36,
     "metadata": {},
     "output_type": "execute_result"
    },
    {
     "data": {
      "image/png": "[encoded data removed]",
      "text/plain": [
       "<Figure size 864x288 with 2 Axes>"
      ]
     },
     "metadata": {
      "needs_background": "light"
     },
     "output_type": "display_data"
    },
    {
     "data": {
      "image/png": "[encoded data removed]",
      "text/plain": [
       "<Figure size 864x288 with 2 Axes>"
      ]
     },
     "metadata": {
      "needs_background": "light"
     },
     "output_type": "display_data"
    }
   ],
   "source": [
    "mofax.plot_interpolated_factors(m, groups=[\"C032\"], size=70, only_mean=True)\n",
    "\n",
    "mofax.plot_interpolated_factors(m, groups=[\"C032\"], size=70, show_observed=False)"
   ]
  },
  {
   "cell_type": "markdown",
   "id": "2af3a37d",
   "metadata": {},
   "source": [
    "# Scatterplot"
   ]
  },
  {
   "cell_type": "markdown",
   "id": "7f24e01a",
   "metadata": {},
   "source": [
    "We can also look at the factor values on the sample level. Here each dot correspond to one time-point-child combination."
   ]
  },
  {
   "cell_type": "code",
   "execution_count": 37,
   "id": "0b048a42",
   "metadata": {},
   "outputs": [
    {
     "ename": "ValueError",
     "evalue": "Could not generate a palette for <map object at 0x1446ff2b0>",
     "output_type": "error",
     "traceback": [
      "\u001b[0;31m---------------------------------------------------------------------------\u001b[0m",
      "\u001b[0;31mValueError\u001b[0m                                Traceback (most recent call last)",
      "\u001b[0;32m~/anaconda3/lib/python3.9/site-packages/seaborn/palettes.py\u001b[0m in \u001b[0;36mcolor_palette\u001b[0;34m(palette, n_colors, desat, as_cmap)\u001b[0m\n\u001b[1;32m    221\u001b[0m             \u001b[0mpalette\u001b[0m \u001b[0;34m=\u001b[0m \u001b[0mmap\u001b[0m\u001b[0;34m(\u001b[0m\u001b[0mmpl\u001b[0m\u001b[0;34m.\u001b[0m\u001b[0mcolors\u001b[0m\u001b[0;34m.\u001b[0m\u001b[0mcolorConverter\u001b[0m\u001b[0;34m.\u001b[0m\u001b[0mto_rgb\u001b[0m\u001b[0;34m,\u001b[0m \u001b[0mpalette\u001b[0m\u001b[0;34m)\u001b[0m\u001b[0;34m\u001b[0m\u001b[0;34m\u001b[0m\u001b[0m\n\u001b[0;32m--> 222\u001b[0;31m             \u001b[0mpalette\u001b[0m \u001b[0;34m=\u001b[0m \u001b[0m_ColorPalette\u001b[0m\u001b[0;34m(\u001b[0m\u001b[0mpalette\u001b[0m\u001b[0;34m)\u001b[0m\u001b[0;34m\u001b[0m\u001b[0;34m\u001b[0m\u001b[0m\n\u001b[0m\u001b[1;32m    223\u001b[0m         \u001b[0;32mexcept\u001b[0m \u001b[0mValueError\u001b[0m\u001b[0;34m:\u001b[0m\u001b[0;34m\u001b[0m\u001b[0;34m\u001b[0m\u001b[0m\n",
      "\u001b[0;32m~/anaconda3/lib/python3.9/site-packages/matplotlib/colors.py\u001b[0m in \u001b[0;36mto_rgb\u001b[0;34m(c)\u001b[0m\n\u001b[1;32m    393\u001b[0m     \u001b[0;34m\"\"\"Convert *c* to an RGB color, silently dropping the alpha channel.\"\"\"\u001b[0m\u001b[0;34m\u001b[0m\u001b[0;34m\u001b[0m\u001b[0m\n\u001b[0;32m--> 394\u001b[0;31m     \u001b[0;32mreturn\u001b[0m \u001b[0mto_rgba\u001b[0m\u001b[0;34m(\u001b[0m\u001b[0mc\u001b[0m\u001b[0;34m)\u001b[0m\u001b[0;34m[\u001b[0m\u001b[0;34m:\u001b[0m\u001b[0;36m3\u001b[0m\u001b[0;34m]\u001b[0m\u001b[0;34m\u001b[0m\u001b[0;34m\u001b[0m\u001b[0m\n\u001b[0m\u001b[1;32m    395\u001b[0m \u001b[0;34m\u001b[0m\u001b[0m\n",
      "\u001b[0;32m~/anaconda3/lib/python3.9/site-packages/matplotlib/colors.py\u001b[0m in \u001b[0;36mto_rgba\u001b[0;34m(c, alpha)\u001b[0m\n\u001b[1;32m    205\u001b[0m     \u001b[0;32mif\u001b[0m \u001b[0mrgba\u001b[0m \u001b[0;32mis\u001b[0m \u001b[0;32mNone\u001b[0m\u001b[0;34m:\u001b[0m  \u001b[0;31m# Suppress exception chaining of cache lookup failure.\u001b[0m\u001b[0;34m\u001b[0m\u001b[0;34m\u001b[0m\u001b[0m\n\u001b[0;32m--> 206\u001b[0;31m         \u001b[0mrgba\u001b[0m \u001b[0;34m=\u001b[0m \u001b[0m_to_rgba_no_colorcycle\u001b[0m\u001b[0;34m(\u001b[0m\u001b[0mc\u001b[0m\u001b[0;34m,\u001b[0m \u001b[0malpha\u001b[0m\u001b[0;34m)\u001b[0m\u001b[0;34m\u001b[0m\u001b[0;34m\u001b[0m\u001b[0m\n\u001b[0m\u001b[1;32m    207\u001b[0m         \u001b[0;32mtry\u001b[0m\u001b[0;34m:\u001b[0m\u001b[0;34m\u001b[0m\u001b[0;34m\u001b[0m\u001b[0m\n",
      "\u001b[0;32m~/anaconda3/lib/python3.9/site-packages/matplotlib/colors.py\u001b[0m in \u001b[0;36m_to_rgba_no_colorcycle\u001b[0;34m(c, alpha)\u001b[0m\n\u001b[1;32m    276\u001b[0m             \u001b[0;32mreturn\u001b[0m \u001b[0mc\u001b[0m\u001b[0;34m,\u001b[0m \u001b[0mc\u001b[0m\u001b[0;34m,\u001b[0m \u001b[0mc\u001b[0m\u001b[0;34m,\u001b[0m \u001b[0malpha\u001b[0m \u001b[0;32mif\u001b[0m \u001b[0malpha\u001b[0m \u001b[0;32mis\u001b[0m \u001b[0;32mnot\u001b[0m \u001b[0;32mNone\u001b[0m \u001b[0;32melse\u001b[0m \u001b[0;36m1.\u001b[0m\u001b[0;34m\u001b[0m\u001b[0;34m\u001b[0m\u001b[0m\n\u001b[0;32m--> 277\u001b[0;31m         \u001b[0;32mraise\u001b[0m \u001b[0mValueError\u001b[0m\u001b[0;34m(\u001b[0m\u001b[0;34mf\"Invalid RGBA argument: {orig_c!r}\"\u001b[0m\u001b[0;34m)\u001b[0m\u001b[0;34m\u001b[0m\u001b[0;34m\u001b[0m\u001b[0m\n\u001b[0m\u001b[1;32m    278\u001b[0m     \u001b[0;31m# turn 2-D array into 1-D array\u001b[0m\u001b[0;34m\u001b[0m\u001b[0;34m\u001b[0m\u001b[0m\n",
      "\u001b[0;31mValueError\u001b[0m: Invalid RGBA argument: 'Cesarean'",
      "\nDuring handling of the above exception, another exception occurred:\n",
      "\u001b[0;31mValueError\u001b[0m                                Traceback (most recent call last)",
      "\u001b[0;32m/var/folders/hc/28dmx58d20x1tv_4srhz6f0h0000gn/T/ipykernel_27105/2908725673.py\u001b[0m in \u001b[0;36m<module>\u001b[0;34m\u001b[0m\n\u001b[0;32m----> 1\u001b[0;31m \u001b[0mmofax\u001b[0m\u001b[0;34m.\u001b[0m\u001b[0mplot_factors\u001b[0m\u001b[0;34m(\u001b[0m\u001b[0mm\u001b[0m\u001b[0;34m,\u001b[0m \u001b[0mcolor\u001b[0m\u001b[0;34m=\u001b[0m\u001b[0;34m\"delivery\"\u001b[0m\u001b[0;34m,\u001b[0m \u001b[0mpalette\u001b[0m\u001b[0;34m=\u001b[0m\u001b[0mcols4delivery\u001b[0m\u001b[0;34m,\u001b[0m \u001b[0malpha\u001b[0m\u001b[0;34m=\u001b[0m\u001b[0;36m.7\u001b[0m\u001b[0;34m)\u001b[0m\u001b[0;34m\u001b[0m\u001b[0;34m\u001b[0m\u001b[0m\n\u001b[0m\u001b[1;32m      2\u001b[0m \u001b[0mmofax\u001b[0m\u001b[0;34m.\u001b[0m\u001b[0mplot_factors\u001b[0m\u001b[0;34m(\u001b[0m\u001b[0mm\u001b[0m\u001b[0;34m,\u001b[0m \u001b[0mcolor\u001b[0m\u001b[0;34m=\u001b[0m\u001b[0;34m\"diet\"\u001b[0m\u001b[0;34m,\u001b[0m \u001b[0mpalette\u001b[0m\u001b[0;34m=\u001b[0m\u001b[0mcols4diet\u001b[0m\u001b[0;34m,\u001b[0m \u001b[0malpha\u001b[0m\u001b[0;34m=\u001b[0m\u001b[0;36m.7\u001b[0m\u001b[0;34m)\u001b[0m\u001b[0;34m\u001b[0m\u001b[0;34m\u001b[0m\u001b[0m\n\u001b[1;32m      3\u001b[0m \u001b[0mmofax\u001b[0m\u001b[0;34m.\u001b[0m\u001b[0mplot_factors\u001b[0m\u001b[0;34m(\u001b[0m\u001b[0mm\u001b[0m\u001b[0;34m,\u001b[0m \u001b[0mcolor\u001b[0m\u001b[0;34m=\u001b[0m\u001b[0;34m\"month\"\u001b[0m\u001b[0;34m,\u001b[0m \u001b[0;34m)\u001b[0m\u001b[0;34m\u001b[0m\u001b[0;34m\u001b[0m\u001b[0m\n",
      "\u001b[0;32m~/anaconda3/lib/python3.9/site-packages/mofax/plot_factors.py\u001b[0m in \u001b[0;36mplot_factors_scatter\u001b[0;34m(model, x, y, dist, groups, group_label, color, zero_line_x, zero_line_y, linewidth, zero_linewidth, size, legend, legend_prop, palette, ncols, sharex, sharey, **kwargs)\u001b[0m\n\u001b[1;32m    148\u001b[0m             \u001b[0ms\u001b[0m\u001b[0;34m=\u001b[0m\u001b[0msize\u001b[0m\u001b[0;34m,\u001b[0m\u001b[0;34m\u001b[0m\u001b[0;34m\u001b[0m\u001b[0m\n\u001b[1;32m    149\u001b[0m         )\n\u001b[0;32m--> 150\u001b[0;31m         g = _plot_factors(\n\u001b[0m\u001b[1;32m    151\u001b[0m             \u001b[0mplot\u001b[0m\u001b[0;34m,\u001b[0m\u001b[0;34m\u001b[0m\u001b[0;34m\u001b[0m\u001b[0m\n\u001b[1;32m    152\u001b[0m             \u001b[0mmodel\u001b[0m\u001b[0;34m,\u001b[0m\u001b[0;34m\u001b[0m\u001b[0;34m\u001b[0m\u001b[0m\n",
      "\u001b[0;32m~/anaconda3/lib/python3.9/site-packages/mofax/plot_factors.py\u001b[0m in \u001b[0;36m_plot_factors\u001b[0;34m(plot_func, model, x, y, color, groups, group_label, zero_line_x, zero_line_y, linewidth, zero_linewidth, legend, legend_prop, palette, ncols, sharex, sharey, **kwargs)\u001b[0m\n\u001b[1;32m    266\u001b[0m         \u001b[0mz\u001b[0m \u001b[0;34m=\u001b[0m \u001b[0mz\u001b[0m\u001b[0;34m[\u001b[0m\u001b[0mz\u001b[0m\u001b[0;34m[\u001b[0m\u001b[0mgroup_label\u001b[0m\u001b[0;34m]\u001b[0m\u001b[0;34m.\u001b[0m\u001b[0misin\u001b[0m\u001b[0;34m(\u001b[0m\u001b[0mgroups\u001b[0m\u001b[0;34m)\u001b[0m\u001b[0;34m]\u001b[0m\u001b[0;34m\u001b[0m\u001b[0;34m\u001b[0m\u001b[0m\n\u001b[1;32m    267\u001b[0m \u001b[0;34m\u001b[0m\u001b[0m\n\u001b[0;32m--> 268\u001b[0;31m     g = _plot_grid(\n\u001b[0m\u001b[1;32m    269\u001b[0m         \u001b[0mplot_func\u001b[0m\u001b[0;34m,\u001b[0m\u001b[0;34m\u001b[0m\u001b[0;34m\u001b[0m\u001b[0m\n\u001b[1;32m    270\u001b[0m         \u001b[0mz\u001b[0m\u001b[0;34m,\u001b[0m\u001b[0;34m\u001b[0m\u001b[0;34m\u001b[0m\u001b[0m\n",
      "\u001b[0;32m~/anaconda3/lib/python3.9/site-packages/mofax/plot_utils.py\u001b[0m in \u001b[0;36m_plot_grid\u001b[0;34m(plot_func, data, x, y, color, **kwargs)\u001b[0m\n\u001b[1;32m     40\u001b[0m         \u001b[0;32mreturn\u001b[0m \u001b[0m_plot_2d_grid\u001b[0m\u001b[0;34m(\u001b[0m\u001b[0mplot_func\u001b[0m\u001b[0;34m,\u001b[0m \u001b[0mdata\u001b[0m\u001b[0;34m,\u001b[0m \u001b[0mx\u001b[0m\u001b[0;34m,\u001b[0m \u001b[0my\u001b[0m\u001b[0;34m,\u001b[0m \u001b[0mcolor\u001b[0m\u001b[0;34m,\u001b[0m \u001b[0;34m**\u001b[0m\u001b[0mkwargs\u001b[0m\u001b[0;34m)\u001b[0m\u001b[0;34m\u001b[0m\u001b[0;34m\u001b[0m\u001b[0m\n\u001b[1;32m     41\u001b[0m     \u001b[0;32melse\u001b[0m\u001b[0;34m:\u001b[0m\u001b[0;34m\u001b[0m\u001b[0;34m\u001b[0m\u001b[0m\n\u001b[0;32m---> 42\u001b[0;31m         \u001b[0;32mreturn\u001b[0m \u001b[0m_plot_grid_from_1d\u001b[0m\u001b[0;34m(\u001b[0m\u001b[0mplot_func\u001b[0m\u001b[0;34m,\u001b[0m \u001b[0mdata\u001b[0m\u001b[0;34m,\u001b[0m \u001b[0mx\u001b[0m\u001b[0;34m,\u001b[0m \u001b[0my\u001b[0m\u001b[0;34m,\u001b[0m \u001b[0;34m[\u001b[0m\u001b[0mcolor\u001b[0m\u001b[0;34m]\u001b[0m\u001b[0;34m,\u001b[0m \u001b[0;34m\"color\"\u001b[0m\u001b[0;34m,\u001b[0m \u001b[0;34m**\u001b[0m\u001b[0mkwargs\u001b[0m\u001b[0;34m)\u001b[0m\u001b[0;34m\u001b[0m\u001b[0;34m\u001b[0m\u001b[0m\n\u001b[0m\u001b[1;32m     43\u001b[0m \u001b[0;34m\u001b[0m\u001b[0m\n\u001b[1;32m     44\u001b[0m \u001b[0;34m\u001b[0m\u001b[0m\n",
      "\u001b[0;32m~/anaconda3/lib/python3.9/site-packages/mofax/plot_utils.py\u001b[0m in \u001b[0;36m_plot_grid_from_1d\u001b[0;34m(plot_func, data, x, y, color, split_axis, ncols, zero_line_x, zero_line_y, linewidth, zero_linewidth, legend, legend_prop, palette, sharex, sharey, modifier, **kwargs)\u001b[0m\n\u001b[1;32m    114\u001b[0m         \u001b[0;31m# data_ = data.sort_values(color) if color is not None and color != [None] else data\u001b[0m\u001b[0;34m\u001b[0m\u001b[0;34m\u001b[0m\u001b[0m\n\u001b[1;32m    115\u001b[0m \u001b[0;34m\u001b[0m\u001b[0m\n\u001b[0;32m--> 116\u001b[0;31m         \u001b[0;32mwith\u001b[0m \u001b[0msns\u001b[0m\u001b[0;34m.\u001b[0m\u001b[0maxes_style\u001b[0m\u001b[0;34m(\u001b[0m\u001b[0;34m\"ticks\"\u001b[0m\u001b[0;34m)\u001b[0m\u001b[0;34m,\u001b[0m \u001b[0msns\u001b[0m\u001b[0;34m.\u001b[0m\u001b[0mcolor_palette\u001b[0m\u001b[0;34m(\u001b[0m\u001b[0mpalette\u001b[0m \u001b[0;32mor\u001b[0m \u001b[0;34m\"Set2\"\u001b[0m\u001b[0;34m)\u001b[0m\u001b[0;34m:\u001b[0m\u001b[0;34m\u001b[0m\u001b[0;34m\u001b[0m\u001b[0m\n\u001b[0m\u001b[1;32m    117\u001b[0m \u001b[0;34m\u001b[0m\u001b[0m\n\u001b[1;32m    118\u001b[0m             g = plot_func(\n",
      "\u001b[0;32m~/anaconda3/lib/python3.9/site-packages/seaborn/palettes.py\u001b[0m in \u001b[0;36mcolor_palette\u001b[0;34m(palette, n_colors, desat, as_cmap)\u001b[0m\n\u001b[1;32m    222\u001b[0m             \u001b[0mpalette\u001b[0m \u001b[0;34m=\u001b[0m \u001b[0m_ColorPalette\u001b[0m\u001b[0;34m(\u001b[0m\u001b[0mpalette\u001b[0m\u001b[0;34m)\u001b[0m\u001b[0;34m\u001b[0m\u001b[0;34m\u001b[0m\u001b[0m\n\u001b[1;32m    223\u001b[0m         \u001b[0;32mexcept\u001b[0m \u001b[0mValueError\u001b[0m\u001b[0;34m:\u001b[0m\u001b[0;34m\u001b[0m\u001b[0;34m\u001b[0m\u001b[0m\n\u001b[0;32m--> 224\u001b[0;31m             \u001b[0;32mraise\u001b[0m \u001b[0mValueError\u001b[0m\u001b[0;34m(\u001b[0m\u001b[0;34mf\"Could not generate a palette for {palette}\"\u001b[0m\u001b[0;34m)\u001b[0m\u001b[0;34m\u001b[0m\u001b[0;34m\u001b[0m\u001b[0m\n\u001b[0m\u001b[1;32m    225\u001b[0m \u001b[0;34m\u001b[0m\u001b[0m\n\u001b[1;32m    226\u001b[0m     \u001b[0;32mreturn\u001b[0m \u001b[0mpalette\u001b[0m\u001b[0;34m\u001b[0m\u001b[0;34m\u001b[0m\u001b[0m\n",
      "\u001b[0;31mValueError\u001b[0m: Could not generate a palette for <map object at 0x1446ff2b0>"
     ]
    },
    {
     "data": {
      "image/png": "[encoded data removed]",
      "text/plain": [
       "<Figure size 432x288 with 1 Axes>"
      ]
     },
     "metadata": {
      "needs_background": "light"
     },
     "output_type": "display_data"
    }
   ],
   "source": [
    "mofax.plot_factors(m, color=\"delivery\", palette=cols4delivery, alpha=.7)\n",
    "mofax.plot_factors(m, color=\"diet\", palette=cols4diet, alpha=.7)\n",
    "mofax.plot_factors(m, color=\"month\", )"
   ]
  },
  {
   "cell_type": "code",
   "execution_count": null,
   "id": "7e9a532d",
   "metadata": {},
   "outputs": [],
   "source": []
  },
  {
   "cell_type": "code",
   "execution_count": null,
   "id": "01b6a141",
   "metadata": {},
   "outputs": [],
   "source": []
  },
  {
   "cell_type": "code",
   "execution_count": null,
   "id": "35f565b6",
   "metadata": {},
   "outputs": [],
   "source": []
  }
 ],
 "metadata": {
  "kernelspec": {
   "display_name": "Python 3 (ipykernel)",
   "language": "python",
   "name": "python3"
  },
  "language_info": {
   "codemirror_mode": {
    "name": "ipython",
    "version": 3
   },
   "file_extension": ".py",
   "mimetype": "text/x-python",
   "name": "python",
   "nbconvert_exporter": "python",
   "pygments_lexer": "ipython3",
   "version": "3.9.12"
  }
 },
 "nbformat": 4,
 "nbformat_minor": 5
}
