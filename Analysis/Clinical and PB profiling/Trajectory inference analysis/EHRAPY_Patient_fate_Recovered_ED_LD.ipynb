{
 "cells": [
  {
   "cell_type": "code",
   "execution_count": 1,
   "id": "a6e1ac55",
   "metadata": {
    "scrolled": true
   },
   "outputs": [
    {
     "data": {
      "text/html": [
       "<pre style=\"white-space:pre;overflow-x:auto;line-height:normal;font-family:Menlo,'DejaVu Sans Mono',consolas,'Courier New',monospace\"><span style=\"color: #800000; text-decoration-color: #800000; font-weight: bold\">Unable to contact PyPI to check for the latest ehrapy version. Do you have an internet connection?</span>\n",
       "</pre>\n"
      ],
      "text/plain": [
       "\u001b[1;31mUnable to contact PyPI to check for the latest ehrapy version. Do you have an internet connection?\u001b[0m\n"
      ]
     },
     "metadata": {},
     "output_type": "display_data"
    }
   ],
   "source": [
    "import anndata as ad\n",
    "import pandas as pd\n",
    "import seaborn as sns\n",
    "import matplotlib.pyplot as plt\n",
    "import ehrapy as ep\n",
    "import numpy as np\n",
    "import cellrank as cr\n",
    "from cellrank.tl.kernels import ConnectivityKernel\n",
    "from cellrank.tl.kernels import PseudotimeKernel\n",
    "import scvelo as scv\n",
    "import dill\n",
    "import scanpy as sc"
   ]
  },
  {
   "cell_type": "code",
   "execution_count": 2,
   "id": "9a6a1aa9",
   "metadata": {},
   "outputs": [],
   "source": [
    "import warnings\n",
    "\n",
    "warnings.simplefilter(\"ignore\", category=UserWarning)\n",
    "warnings.simplefilter(\"ignore\", category=FutureWarning)\n",
    "warnings.simplefilter(\"ignore\", category=DeprecationWarning)"
   ]
  },
  {
   "cell_type": "code",
   "execution_count": null,
   "id": "80f9d32c",
   "metadata": {},
   "outputs": [],
   "source": [
    "#save the session\n",
    "dill.dump_session('EHRAPY_Trajectories_Recovered_ED_LD.db')"
   ]
  },
  {
   "cell_type": "code",
   "execution_count": 3,
   "id": "31835202",
   "metadata": {},
   "outputs": [],
   "source": [
    "#load the session\n",
    "dill.load_session('EHRAPY_Trajectories_Recovered_ED_LD.db')"
   ]
  },
  {
   "cell_type": "markdown",
   "id": "3be510df",
   "metadata": {},
   "source": [
    "# 1- Dataset preparation"
   ]
  },
  {
   "cell_type": "code",
   "execution_count": null,
   "id": "536eb6b4",
   "metadata": {},
   "outputs": [],
   "source": [
    "#Read in the data\n",
    "# missing data was imputed with the missMDA package with the imputeMFA function\n",
    "df = pd.read_csv('./COVID_Clinical_Luminex_deceased_recovered_EHRAPY.csv') #data is not scaled \n"
   ]
  },
  {
   "cell_type": "code",
   "execution_count": null,
   "id": "0fd4a8e4",
   "metadata": {},
   "outputs": [],
   "source": [
    "df"
   ]
  },
  {
   "cell_type": "code",
   "execution_count": null,
   "id": "bc962c80",
   "metadata": {},
   "outputs": [],
   "source": [
    "adata = ep.ad.df_to_anndata(\n",
    "    df, index_column=\"RecordID\", columns_obs_only=[\"Category\", \"Category2\",\"Day_of_Sampling\", \"Average_DOS\"]\n",
    ")"
   ]
  },
  {
   "cell_type": "code",
   "execution_count": null,
   "id": "81035429",
   "metadata": {},
   "outputs": [],
   "source": [
    "adata"
   ]
  },
  {
   "cell_type": "code",
   "execution_count": null,
   "id": "b2529298",
   "metadata": {},
   "outputs": [],
   "source": [
    "adata.obs"
   ]
  },
  {
   "cell_type": "code",
   "execution_count": null,
   "id": "982a10c1",
   "metadata": {},
   "outputs": [],
   "source": [
    "# The AnnData object also has data in the uns (unstructured) slot which denotes which columns are numerical columns and which ones aren’t.\n",
    "# This may be required for specific algorithms.\n",
    "adata.uns"
   ]
  },
  {
   "cell_type": "code",
   "execution_count": null,
   "id": "d7c2bb8b",
   "metadata": {},
   "outputs": [],
   "source": [
    "# Finally, the layers slot of our object saves all original values when the object was created. \n",
    "# We will constantly modify our X when applying algorithms to our object (e.g. scaling) and this layer is a copy of our original X \n",
    "# which will allow us to e.g. scale the age, but use the original values when coloring a UMAP plot.\n",
    "\n",
    "\n",
    "adata.layers[\"original\"]"
   ]
  },
  {
   "cell_type": "code",
   "execution_count": null,
   "id": "5dd98295",
   "metadata": {},
   "outputs": [],
   "source": [
    "ep.ad.type_overview(adata)"
   ]
  },
  {
   "cell_type": "markdown",
   "id": "29c8d71c",
   "metadata": {},
   "source": [
    "# 2- Preprocessing"
   ]
  },
  {
   "cell_type": "markdown",
   "id": "28cf8a2a",
   "metadata": {},
   "source": [
    "Quality control - missing values"
   ]
  },
  {
   "cell_type": "code",
   "execution_count": null,
   "id": "327bf72c",
   "metadata": {},
   "outputs": [],
   "source": [
    "# ehrapy’s qc_metrics function will calculate several useful metrics such as\n",
    "# the absolute number and percentages of missing values and properties like the mean/median/min/max of all features.\n",
    "\n",
    "_ = ep.pp.qc_metrics(adata)\n",
    "ep.pl.qc_metrics(adata)"
   ]
  },
  {
   "cell_type": "code",
   "execution_count": null,
   "id": "b3990ad6",
   "metadata": {},
   "outputs": [],
   "source": [
    "adata.obs"
   ]
  },
  {
   "cell_type": "code",
   "execution_count": null,
   "id": "7115c646",
   "metadata": {},
   "outputs": [],
   "source": [
    "_ = sns.displot(adata.obs[\"missing_values_abs\"])\n",
    "plt.show()\n",
    "\n",
    "_ = sns.displot(adata.obs[\"missing_values_pct\"])"
   ]
  },
  {
   "cell_type": "markdown",
   "id": "fd7ab5e7",
   "metadata": {},
   "source": [
    "Missing data imputation"
   ]
  },
  {
   "cell_type": "code",
   "execution_count": null,
   "id": "c799e3b9",
   "metadata": {},
   "outputs": [],
   "source": [
    "ep.pp.knn_impute(adata)"
   ]
  },
  {
   "cell_type": "code",
   "execution_count": null,
   "id": "ffe291ff",
   "metadata": {},
   "outputs": [],
   "source": [
    "# We can now confirm that there are indeed no missing values present.\n",
    "\n",
    "_ = sns.displot(adata.obs[\"missing_values_abs\"])\n",
    "plt.show()\n",
    "\n",
    "_ = sns.displot(adata.obs[\"missing_values_pct\"])\n",
    "plt.show()\n",
    "\n",
    "_ = sns.displot(adata.var[\"missing_values_abs\"])\n",
    "plt.show()\n",
    "\n",
    "_ = sns.displot(adata.var[\"missing_values_pct\"])\n",
    "\n"
   ]
  },
  {
   "cell_type": "markdown",
   "id": "63b6a21d",
   "metadata": {},
   "source": [
    "Data Distribution"
   ]
  },
  {
   "cell_type": "code",
   "execution_count": null,
   "id": "a1718afd",
   "metadata": {},
   "outputs": [],
   "source": [
    "# Depending on the measurement and the unit of a measurement the value ranges of features may be huge. \n",
    "# Clusterings and differential comparisons especially may be greatly influenced by exceptionally big values.\n",
    "\n",
    "_ = sns.displot(adata.var[\"min\"])\n",
    "plt.show()\n",
    "\n",
    "_ = sns.displot(adata.var[\"max\"])\n",
    "plt.show()\n",
    "\n",
    "_ = sns.displot(adata.var[\"standard_deviation\"])\n"
   ]
  },
  {
   "cell_type": "code",
   "execution_count": null,
   "id": "d4ac8839",
   "metadata": {},
   "outputs": [],
   "source": [
    "adata.var[adata.var[\"standard_deviation\"] > 500]"
   ]
  },
  {
   "cell_type": "code",
   "execution_count": null,
   "id": "1012e5cb",
   "metadata": {},
   "outputs": [],
   "source": [
    "ep.pp.pca(adata)\n",
    "ep.pp.neighbors(adata)\n",
    "ep.tl.umap(adata)\n",
    "ep.tl.leiden(adata, resolution=0.5, key_added=\"leiden_0_5\")"
   ]
  },
  {
   "cell_type": "code",
   "execution_count": null,
   "id": "4af73a2f",
   "metadata": {},
   "outputs": [],
   "source": [
    "ep.tl.leiden(adata, resolution=1, key_added=\"leiden_1\")"
   ]
  },
  {
   "cell_type": "code",
   "execution_count": null,
   "id": "49882994",
   "metadata": {},
   "outputs": [],
   "source": [
    "ep.pl.umap(adata, color=[\"leiden_0_5\"], title=\"Leiden 0.5\")"
   ]
  },
  {
   "cell_type": "code",
   "execution_count": null,
   "id": "8c5fe5a9",
   "metadata": {
    "scrolled": true
   },
   "outputs": [],
   "source": [
    "ep.pl.umap(adata, color=[\"leiden_1\"], title=\"Leiden 1\")"
   ]
  },
  {
   "cell_type": "code",
   "execution_count": null,
   "id": "27871b91",
   "metadata": {},
   "outputs": [],
   "source": []
  },
  {
   "cell_type": "code",
   "execution_count": null,
   "id": "518a65bd",
   "metadata": {},
   "outputs": [],
   "source": [
    "ep.pl.umap(\n",
    "    adata,\n",
    "    color=[\"Category2\", \"Day_of_Sampling\"],\n",
    "    wspace=0.5,\n",
    "    title=[\"Category2\", \"Day_of_Sampling\"],\n",
    ")"
   ]
  },
  {
   "cell_type": "markdown",
   "id": "d44d3a0c",
   "metadata": {},
   "source": [
    "# 3- Normalization and dimensionalty reduction"
   ]
  },
  {
   "cell_type": "markdown",
   "id": "7e0ded0c",
   "metadata": {},
   "source": [
    "Ehrapy offers several options to normalize data. While it is possible to normalize all numerical values at once with the same normalization function we might be able to get away with just normalizing per feature."
   ]
  },
  {
   "cell_type": "code",
   "execution_count": null,
   "id": "15a8e306",
   "metadata": {},
   "outputs": [],
   "source": [
    "# in the tutorial, the data was not normalised, but try here with normalised data\n",
    "adata_norm = ep.pp.scale_norm(adata, copy=True)"
   ]
  },
  {
   "cell_type": "code",
   "execution_count": null,
   "id": "6ecf9304",
   "metadata": {},
   "outputs": [],
   "source": [
    "_ = ep.pp.qc_metrics(adata_norm)\n",
    "ep.pl.qc_metrics"
   ]
  },
  {
   "cell_type": "code",
   "execution_count": null,
   "id": "06a8bf7f",
   "metadata": {},
   "outputs": [],
   "source": [
    "ep.pp.pca(adata_norm)\n",
    "ep.pp.neighbors(adata_norm)\n",
    "ep.tl.umap(adata_norm)\n",
    "ep.tl.leiden(adata_norm, resolution=0.5, key_added=\"leiden_0.5\")"
   ]
  },
  {
   "cell_type": "code",
   "execution_count": null,
   "id": "44745bea",
   "metadata": {},
   "outputs": [],
   "source": [
    "ep.tl.leiden(adata_norm, resolution=1, key_added=\"leiden_1\")"
   ]
  },
  {
   "cell_type": "code",
   "execution_count": null,
   "id": "be70d9cc",
   "metadata": {},
   "outputs": [],
   "source": [
    "ep.pl.umap(adata_norm, color=[\"leiden_0.5\"], title=\"Leiden 0.5\")"
   ]
  },
  {
   "cell_type": "code",
   "execution_count": null,
   "id": "d0796f35",
   "metadata": {
    "scrolled": true
   },
   "outputs": [],
   "source": [
    "ep.pl.umap(adata_norm, color=[\"leiden_1\"], title=\"Leiden 1\", save = \"_Leiden_res1.pdf\")"
   ]
  },
  {
   "cell_type": "code",
   "execution_count": null,
   "id": "bdecb5c1",
   "metadata": {},
   "outputs": [],
   "source": [
    "#F08080 - light coral\n",
    "#87CEFA - lightskyblue\n",
    "#D3D3D3 - lightgrey\n",
    "\n",
    "pretty_colors = ['#000066', '#D3D3D3']\n",
    "pretty_colors2 = ['#FA8072','#92C7F9', '#D3D3D3']\n",
    "color_pal = sns.color_palette(pretty_colors2)"
   ]
  },
  {
   "cell_type": "code",
   "execution_count": null,
   "id": "7b897239",
   "metadata": {},
   "outputs": [],
   "source": [
    "ep.pl.umap(\n",
    "    adata_norm,\n",
    "    wspace=0.3,color=[\"Category\"], palette = pretty_colors,\n",
    "    title=[\"COVID-19 outcome\"], save = \"_outcome.pdf\"\n",
    ")"
   ]
  },
  {
   "cell_type": "code",
   "execution_count": null,
   "id": "f7e0d40a",
   "metadata": {
    "scrolled": true
   },
   "outputs": [],
   "source": [
    "ep.pl.umap(\n",
    "    adata_norm,\n",
    "    color=[\"Category2\"], palette = pretty_colors2,\n",
    "    wspace=0.3,\n",
    "    title=[\"COVID-19 progression\"], save = \"_progression.pdf\",\n",
    ")"
   ]
  },
  {
   "cell_type": "code",
   "execution_count": null,
   "id": "aa130bc2",
   "metadata": {},
   "outputs": [],
   "source": [
    "ep.pl.umap(\n",
    "    adata_norm,\n",
    "    color=[\"Day_of_Sampling\"],\n",
    "    wspace=0.3, \n",
    "    title=[\"Day of Sampling\"],\n",
    ")"
   ]
  },
  {
   "cell_type": "markdown",
   "id": "56d6cecf",
   "metadata": {},
   "source": [
    "# 4- Determining patient fate using a ConnectivityKernel"
   ]
  },
  {
   "cell_type": "markdown",
   "id": "69f4da3c",
   "metadata": {},
   "source": [
    "Depending on the data it may not always be possible to clearly define a cluster or specific patients as the origin. When working with single-cell data this is easier because when stem cells are detected these are usually the origin of cell differentiation processes.\n",
    "\n",
    "In our case we do not have any clear origin and will therefore start with cellrank’s ConnectivityKernel. This kernel computes transition probabilities based on similarities among patients using a KNN graph.\n",
    "First we define the kernel, compute the transition matrix and a projection ontop of the UMAP."
   ]
  },
  {
   "cell_type": "code",
   "execution_count": null,
   "id": "f2edbb95",
   "metadata": {},
   "outputs": [],
   "source": [
    "# Based on the non-normalised data\n",
    "ck = ConnectivityKernel(adata)\n",
    "ck.compute_transition_matrix()\n",
    "ck.compute_projection(basis=\"umap\")"
   ]
  },
  {
   "cell_type": "markdown",
   "id": "9b6645a4",
   "metadata": {},
   "source": [
    "Note that ConnectivityKernel has a backward parameter which can be set to True to compute everything backwards in time.\n",
    "\n",
    "We can now visualize the project forwards and backwards in time using scvelo."
   ]
  },
  {
   "cell_type": "code",
   "execution_count": null,
   "id": "e74d5046",
   "metadata": {},
   "outputs": [],
   "source": [
    "scv.pl.velocity_embedding_stream(adata, vkey=\"T_fwd\", basis=\"umap\", color=\"leiden_0_5\")"
   ]
  },
  {
   "cell_type": "code",
   "execution_count": null,
   "id": "3b8942b4",
   "metadata": {},
   "outputs": [],
   "source": [
    "scv.pl.velocity_embedding_stream(adata, vkey=\"T_fwd\", basis=\"umap\", color=\"leiden_1\")"
   ]
  },
  {
   "cell_type": "code",
   "execution_count": null,
   "id": "98b1af4f",
   "metadata": {},
   "outputs": [],
   "source": [
    "ep.pl.umap(adata, color=\"Category\", title=\"Recovery vs Fatal\")"
   ]
  },
  {
   "cell_type": "code",
   "execution_count": null,
   "id": "8f4a7eeb",
   "metadata": {},
   "outputs": [],
   "source": [
    "# Using the normalised data\n",
    "ck2 = ConnectivityKernel(adata_norm)\n",
    "ck2.compute_transition_matrix()\n",
    "ck2.compute_projection(basis=\"umap\")"
   ]
  },
  {
   "cell_type": "code",
   "execution_count": null,
   "id": "ef163c39",
   "metadata": {},
   "outputs": [],
   "source": [
    "scv.pl.velocity_embedding_stream(adata_norm, vkey=\"T_fwd\", basis=\"umap\", color=\"leiden_0_5\")"
   ]
  },
  {
   "cell_type": "code",
   "execution_count": 9,
   "id": "d6c5ea2b",
   "metadata": {},
   "outputs": [
    {
     "name": "stdout",
     "output_type": "stream",
     "text": [
      "figure cannot be saved as pdf, using png instead.\n",
      "saving figure to file ./figures/scvelo_trajectories.png\n"
     ]
    },
    {
     "data": {
      "image/png": "[encoded data removed]",
      "text/plain": [
       "<Figure size 640x480 with 1 Axes>"
      ]
     },
     "metadata": {},
     "output_type": "display_data"
    }
   ],
   "source": [
    "scv.pl.velocity_embedding_stream(adata_norm, vkey=\"T_fwd\", basis=\"umap\", density=3, arrow_size = 2, color=\"leiden_1\", save = \"trajectories.pdf\")"
   ]
  },
  {
   "cell_type": "markdown",
   "id": "36201f0c",
   "metadata": {},
   "source": [
    "# 5- Determining macrostates and terminal states"
   ]
  },
  {
   "cell_type": "markdown",
   "id": "a86ae2f5",
   "metadata": {},
   "source": [
    "Let’s try to find the origins of the “death clusters”. We will now define a GPCCA estimator to predict the patient fates using the above calculated transition matrix."
   ]
  },
  {
   "cell_type": "code",
   "execution_count": null,
   "id": "e1855448",
   "metadata": {},
   "outputs": [],
   "source": [
    "# Based on non-norm data\n",
    "g = cr.tl.estimators.GPCCA(ck)"
   ]
  },
  {
   "cell_type": "code",
   "execution_count": null,
   "id": "ff9f8751",
   "metadata": {},
   "outputs": [],
   "source": [
    "# As a first step we try to identify macrostates in the data.\n",
    "g.compute_macrostates(n_states=3, cluster_key=\"leiden_0_5\")\n",
    "g.macrostates_memberships"
   ]
  },
  {
   "cell_type": "code",
   "execution_count": null,
   "id": "9fee309a",
   "metadata": {},
   "outputs": [],
   "source": [
    "g.compute_macrostates(n_states=3, cluster_key=\"leiden_1\")\n",
    "g.macrostates_memberships"
   ]
  },
  {
   "cell_type": "code",
   "execution_count": null,
   "id": "152e90fd",
   "metadata": {},
   "outputs": [],
   "source": [
    "g.plot_macrostates()\n",
    "g.plot_macrostates(discrete=True)"
   ]
  },
  {
   "cell_type": "code",
   "execution_count": null,
   "id": "bbf660a0",
   "metadata": {},
   "outputs": [],
   "source": [
    "g.plot_macrostates(same_plot=False, ncols=2)"
   ]
  },
  {
   "cell_type": "code",
   "execution_count": null,
   "id": "2f35f026",
   "metadata": {},
   "outputs": [],
   "source": [
    "# define the macrostates as our terminal states.\n",
    "g.set_terminal_states_from_macrostates([\"1\", \"3\"])\n",
    "g.plot_terminal_states()"
   ]
  },
  {
   "cell_type": "code",
   "execution_count": null,
   "id": "6045513a",
   "metadata": {},
   "outputs": [],
   "source": [
    "# Based on norm data\n",
    "g2 = cr.tl.estimators.GPCCA(ck2)"
   ]
  },
  {
   "cell_type": "code",
   "execution_count": null,
   "id": "8a0fda5d",
   "metadata": {},
   "outputs": [],
   "source": [
    "# As a first step we try to identify macrostates in the data.\n",
    "g2.compute_macrostates(n_states=3, cluster_key=\"leiden_0_5\")\n",
    "g2.macrostates_memberships"
   ]
  },
  {
   "cell_type": "code",
   "execution_count": null,
   "id": "6b429953",
   "metadata": {},
   "outputs": [],
   "source": [
    "g2.compute_macrostates(n_states=3, cluster_key=\"leiden_1\")\n",
    "g2.macrostates_memberships"
   ]
  },
  {
   "cell_type": "code",
   "execution_count": null,
   "id": "dce6f5ba",
   "metadata": {},
   "outputs": [],
   "source": [
    "g2.plot_macrostates()\n",
    "g2.plot_macrostates(discrete=True)"
   ]
  },
  {
   "cell_type": "code",
   "execution_count": null,
   "id": "a2d79454",
   "metadata": {},
   "outputs": [],
   "source": [
    "g2.plot_macrostates(same_plot=False, ncols=2)"
   ]
  },
  {
   "cell_type": "code",
   "execution_count": null,
   "id": "77631090",
   "metadata": {},
   "outputs": [],
   "source": [
    "# define the macrostates as our terminal states.\n",
    "g2.set_terminal_states_from_macrostates([\"0\",\"1\",\"3\"])\n",
    "g2.plot_terminal_states()"
   ]
  },
  {
   "cell_type": "markdown",
   "id": "b4020d7c",
   "metadata": {},
   "source": [
    "# 6- Calculating absorption probabilities"
   ]
  },
  {
   "cell_type": "markdown",
   "id": "c56086f9",
   "metadata": {},
   "source": [
    "For each visit, this computes the probability of being absorbed in any of the terminal_states. In particular, this corresponds to the probability that a random walk initialized in transient visit will reach any visit from a fixed transient state before reaching a visit from any other transient state."
   ]
  },
  {
   "cell_type": "code",
   "execution_count": null,
   "id": "5f2d760d",
   "metadata": {},
   "outputs": [],
   "source": [
    "g2.compute_absorption_probabilities()"
   ]
  },
  {
   "cell_type": "code",
   "execution_count": null,
   "id": "34471b89",
   "metadata": {},
   "outputs": [],
   "source": [
    "g2.plot_absorption_probabilities()"
   ]
  },
  {
   "cell_type": "code",
   "execution_count": null,
   "id": "acb491e3",
   "metadata": {},
   "outputs": [],
   "source": [
    "# We can also calculate a pseudotime which is required for all patient visits to reach these states.\n",
    "g2.compute_absorption_probabilities(time_to_absorption=\"all\")\n",
    "g2.absorption_times\n"
   ]
  },
  {
   "cell_type": "code",
   "execution_count": null,
   "id": "ee9f8874",
   "metadata": {},
   "outputs": [],
   "source": [
    "adata_norm.obs[\"mean_time_to_absorption\"] = g2.absorption_times[\"0, 1, 3 mean\"]\n",
    "scv.pl.scatter(adata_norm, color=\"mean_time_to_absorption\")"
   ]
  },
  {
   "cell_type": "markdown",
   "id": "a5a0838a",
   "metadata": {},
   "source": [
    "# 7- Extracting lineage drivers"
   ]
  },
  {
   "cell_type": "markdown",
   "id": "d23992f4",
   "metadata": {},
   "source": [
    "As a next step we want to determine the major features driving these transitions and terminal states.\n"
   ]
  },
  {
   "cell_type": "code",
   "execution_count": null,
   "id": "52c73bef",
   "metadata": {},
   "outputs": [],
   "source": [
    "g2.compute_lineage_drivers()"
   ]
  },
  {
   "cell_type": "code",
   "execution_count": null,
   "id": "8763b08f",
   "metadata": {},
   "outputs": [],
   "source": [
    "g2.plot_lineage_drivers(lineage=\"0\", ncols=2, save = \".pdf\")"
   ]
  },
  {
   "cell_type": "code",
   "execution_count": null,
   "id": "4155bb5c",
   "metadata": {},
   "outputs": [],
   "source": [
    "g2.plot_lineage_drivers(lineage=\"1\", ncols=2)"
   ]
  },
  {
   "cell_type": "code",
   "execution_count": null,
   "id": "d3a8e834",
   "metadata": {},
   "outputs": [],
   "source": [
    "g2.plot_lineage_drivers(lineage=\"3\", ncols=2)"
   ]
  },
  {
   "cell_type": "markdown",
   "id": "677cf308",
   "metadata": {},
   "source": [
    "# 8- Exploring cluster fates"
   ]
  },
  {
   "cell_type": "code",
   "execution_count": null,
   "id": "8162d57a",
   "metadata": {},
   "outputs": [],
   "source": [
    "cr.pl.cluster_fates(adata_norm, mode=\"bar\", cluster_key=\"leiden_1\")"
   ]
  },
  {
   "cell_type": "code",
   "execution_count": null,
   "id": "ce206928",
   "metadata": {},
   "outputs": [],
   "source": [
    "cr.pl.cluster_fates(adata_norm, mode=\"heatmap\", cluster_key=\"leiden_1\")\n",
    "cr.pl.cluster_fates(adata_norm, mode=\"clustermap\", cluster_key=\"leiden_1\")"
   ]
  },
  {
   "cell_type": "markdown",
   "id": "b72763cd",
   "metadata": {},
   "source": [
    "We can also leverage PAGA to visualize this information in a PAGA graph"
   ]
  },
  {
   "cell_type": "code",
   "execution_count": null,
   "id": "e4b6465e",
   "metadata": {},
   "outputs": [],
   "source": [
    "ep.tl.paga(adata_norm, groups=\"leiden_1\")"
   ]
  },
  {
   "cell_type": "code",
   "execution_count": null,
   "id": "772c78d1",
   "metadata": {},
   "outputs": [],
   "source": [
    "cr.pl.cluster_fates(adata_norm, mode=\"paga_pie\", basis=\"umap\", cluster_key=\"leiden_1\")"
   ]
  },
  {
   "cell_type": "code",
   "execution_count": null,
   "id": "7854d6da",
   "metadata": {},
   "outputs": [],
   "source": [
    "cr.pl.cluster_fates(\n",
    "    adata_norm, mode=\"paga\", legend_loc=\"on data\", basis=\"umap\", cluster_key=\"leiden_1\"\n",
    ")"
   ]
  },
  {
   "cell_type": "code",
   "execution_count": null,
   "id": "b9336695",
   "metadata": {},
   "outputs": [],
   "source": [
    "cr.pl.circular_projection(\n",
    "    adata_norm, keys=[\"leiden_1\", \"kl_divergence\"], legend_loc=\"upper right\"\n",
    ")"
   ]
  },
  {
   "cell_type": "markdown",
   "id": "9804e6a9",
   "metadata": {},
   "source": [
    "# 9- Determining patient fate with a PseudotimeKernel"
   ]
  },
  {
   "cell_type": "markdown",
   "id": "f2a6f6a8",
   "metadata": {},
   "source": [
    "• We have now learnt that for example death dominated cluster 7 origins from cluster 10 (high IV). Hence, we will now set a patient from cluster 10 as our root for our pseudotime calculation and will verify that we would indeed end up in clusters 4, 7 and 8.\n",
    "• Using pseudotime to find terminal states is even more useful when the terminal states are unknown and only a root cluster is clear.\n",
    "• The Pseudotime kernel computes direct transition probabilities based on a KNN graph and pseudotime.\n",
    "• The KNN graph contains information about the (undirected) connectivities among cells, reflecting their similarity. Pseudotime can be used to either remove edges that point against the direction of increasing pseudotime, or to downweight them."
   ]
  },
  {
   "cell_type": "code",
   "execution_count": null,
   "id": "bcb82edb",
   "metadata": {},
   "outputs": [],
   "source": [
    "adata_norm.uns[\"iroot\"] = np.flatnonzero(adata_norm.obs[\"leiden_1\"] == \"5\")[0]\n",
    "ep.tl.dpt(adata_norm)"
   ]
  },
  {
   "cell_type": "code",
   "execution_count": null,
   "id": "be94a007",
   "metadata": {},
   "outputs": [],
   "source": [
    "pk = PseudotimeKernel(adata_norm)\n",
    "pk.compute_transition_matrix()\n",
    "pk.compute_projection(basis=\"umap\")"
   ]
  },
  {
   "cell_type": "code",
   "execution_count": null,
   "id": "06ec09f0",
   "metadata": {},
   "outputs": [],
   "source": [
    "scv.pl.velocity_embedding_stream(adata_norm, vkey=\"T_fwd\", basis=\"umap\", color=\"leiden_1\")"
   ]
  },
  {
   "cell_type": "markdown",
   "id": "3fea32e6",
   "metadata": {},
   "source": [
    "# 10- Simulating transitions with random walks"
   ]
  },
  {
   "cell_type": "markdown",
   "id": "592d9cac",
   "metadata": {},
   "source": [
    "Cellrank makes it easy to simulate the behavior of random walks from specific clusters. This allows us to not only visualize where the patients end up, but also roughly how many in which clusters after a defined number of iterations. We can either just start walking…"
   ]
  },
  {
   "cell_type": "code",
   "execution_count": null,
   "id": "d8e68804",
   "metadata": {},
   "outputs": [],
   "source": [
    "pk.plot_random_walks(\n",
    "    100,\n",
    "    start_ixs={\"leiden_1\": \"0\"},\n",
    "    max_iter=100,\n",
    "    show_progress_bar=False,\n",
    "    ixs_legend_loc=\"best\",\n",
    "    seed=42,\n",
    ")"
   ]
  },
  {
   "cell_type": "code",
   "execution_count": null,
   "id": "b3eff47f",
   "metadata": {},
   "outputs": [],
   "source": [
    "# … or set a number of required hits in one or more terminal clusters. Here, we require 50 hits in one of our three “death” clusters.\n",
    "pk.plot_random_walks(\n",
    "    200,\n",
    "    start_ixs={\"leiden_1\": \"1\"},\n",
    "    stop_ixs={\"leiden_1\": [\"0\", \"3\", \"6\"]},\n",
    "    max_iter=100,\n",
    "    successive_hits=50,\n",
    "    show_progress_bar=False,\n",
    "    cmap=\"viridis\",\n",
    "    seed=42,\n",
    ")"
   ]
  },
  {
   "cell_type": "markdown",
   "id": "7549fce7",
   "metadata": {},
   "source": [
    "# 11- Determining feature trends"
   ]
  },
  {
   "cell_type": "markdown",
   "id": "50965f98",
   "metadata": {},
   "source": [
    "cellrank uses Generalized Additive Models (GAMs) to determine trends of features."
   ]
  },
  {
   "cell_type": "code",
   "execution_count": null,
   "id": "f494d1f2",
   "metadata": {},
   "outputs": [],
   "source": [
    "model = cr.ul.models.GAM(adata_norm)\n",
    "cr.pl.gene_trends(\n",
    "    adata_norm,\n",
    "    model,\n",
    "    [\"TPO\"],\n",
    "    time_key=\"dpt_pseudotime\",\n",
    "    show_progress_bar=False,\n",
    ")"
   ]
  },
  {
   "cell_type": "code",
   "execution_count": null,
   "id": "e042f653",
   "metadata": {},
   "outputs": [],
   "source": [
    "cr.pl.gene_trends(\n",
    "    adata,\n",
    "    model,\n",
    "    [\"iv_day_1\"],\n",
    "    same_plot=True,\n",
    "    hide_cells=True,\n",
    "    time_key=\"dpt_pseudotime\",\n",
    "    show_progress_bar=False,\n",
    ")"
   ]
  },
  {
   "cell_type": "code",
   "execution_count": null,
   "id": "e3aff43f",
   "metadata": {},
   "outputs": [],
   "source": []
  }
 ],
 "metadata": {
  "kernelspec": {
   "display_name": "Python 3 (ipykernel)",
   "language": "python",
   "name": "python3"
  },
  "language_info": {
   "codemirror_mode": {
    "name": "ipython",
    "version": 3
   },
   "file_extension": ".py",
   "mimetype": "text/x-python",
   "name": "python",
   "nbconvert_exporter": "python",
   "pygments_lexer": "ipython3",
   "version": "3.9.13"
  }
 },
 "nbformat": 4,
 "nbformat_minor": 5
}
